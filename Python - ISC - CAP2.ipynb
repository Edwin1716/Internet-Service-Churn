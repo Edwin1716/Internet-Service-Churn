{
 "cells": [
  {
   "cell_type": "markdown",
   "id": "2013032d",
   "metadata": {},
   "source": [
    "#           INTERNET SERVICE CHURN "
   ]
  },
  {
   "cell_type": "markdown",
   "id": "0b0cfd48",
   "metadata": {},
   "source": [
    "## OBJECTIVE:\n",
    "1. Identify the profile of customers that are likely to churn with available features.\n",
    "2. Build models that predict probability of whether customers will churn or not."
   ]
  },
  {
   "cell_type": "markdown",
   "id": "b3a42196",
   "metadata": {},
   "source": [
    "## Context of Analysis\n",
    "           \n",
    " There is a big competition between Internet providers. If a providers want to increase its revenue they needs more subscriber but keep existing customer is more important than having new ones. So, providers want to know which customer should cancel his service. If the provider cancel the service, that is called churn. \n",
    "\n",
    " All industries suffer from voluntary churn -- the loss of customers to some other company. The survival of any business is based on its ability to retain customers. This is particularly true for phone, cable TV, satellite TV and wireless companies. How do you reduce churn? There are many ways: better products, better delivery methods, lower prices, building satisfactory customer relationships, better marketing and, above all, successful customer communications. \n",
    " \n",
    " Wireless companies today measure voluntary churn by a monthly figure, such as 1.9 percent or 2.1 percent. This is the average number of customers who quit their service per month. Annual churn rates for telecommunications companies average between 10 percent and 67 percent.\n",
    " \n",
    " Industry retention surveys have shown that while price and product are important, most people leave any service because of dissatisfaction with the way they are treated. They would not be looking around if they were happy with their current provider, its service and employees. \n",
    " \n",
    " Churn reduction in the telecom industry is a serious problem, but there are many things that can be done to reduce it, and, with a customer database, many ways of measuring your success.\n"
   ]
  },
  {
   "cell_type": "markdown",
   "id": "805a8545",
   "metadata": {},
   "source": [
    "##  Introduction to data\n",
    "\n",
    "The dataset consist of the following features:\n",
    "1) is_tv_subscriber customer - has a tv subscription ?\n",
    "\n",
    "2) is_movie_package_subscriber?\n",
    "\n",
    "3) subscription_age - how many year has the customer use our service\n",
    "\n",
    "4) bill_avg - last 3 months bill avg\n",
    "\n",
    "5) reamining_contract - how many year remaining for customer contract. If null; customer didn't have a contract. the customer                           who has a contract time have to use their service until contract end.if they canceled their service                             before contract time end they pay a penalty fare.\n",
    "\n",
    "Two ways in which a customer could be using the services. One through a time-bound contract which costs less and another through a normal monthly subscription which obviously costs more. So, even if a person is not in a contract, he's still a user who's paying monthly fees.\n",
    "\n",
    "5) service_failure_count customer - call count to call center for service failure for last 3 months\n",
    "\n",
    "6) download_avg - last 3 months internet usage (GB)\n",
    "\n",
    "7) upload_avg last - 3 months upload avg (GB)\n",
    "\n",
    "8) download_over_limit - most of customer has a download limit. if they reach this limit they have to pay for this. this column                          contain \"limit over count\" for last 9 months\n",
    "\n",
    "9) churn - this is the target column. if 1 customer canceled his service\n",
    "\n",
    "The dataset is taken from https://www.kaggle.com/mehmetsabrikunt/internet-service-churn/metadata\n",
    "\n",
    "Consist of 72275 rows and 11 columns."
   ]
  },
  {
   "cell_type": "markdown",
   "id": "5dc2dd14",
   "metadata": {},
   "source": [
    "## Import Libraries"
   ]
  },
  {
   "cell_type": "code",
   "execution_count": 1,
   "id": "4bc74c77",
   "metadata": {},
   "outputs": [],
   "source": [
    "import numpy as np\n",
    "import sklearn as sk\n",
    "import pandas as pd\n",
    "from sklearn.model_selection import train_test_split\n",
    "from sklearn.linear_model import LogisticRegression\n",
    "from sklearn import metrics\n",
    "from sklearn.datasets import load_digits\n",
    "from sklearn.metrics import classification_report, confusion_matrix\n",
    "from sklearn.preprocessing import StandardScaler\n",
    "import seaborn as sn\n",
    "import matplotlib.pyplot as plt"
   ]
  },
  {
   "cell_type": "markdown",
   "id": "4c65a329",
   "metadata": {},
   "source": [
    "##  Import Dataset"
   ]
  },
  {
   "cell_type": "code",
   "execution_count": 2,
   "id": "77989ee9",
   "metadata": {},
   "outputs": [],
   "source": [
    "isc = pd.read_csv(\"internet_service_churn.csv\")"
   ]
  },
  {
   "cell_type": "markdown",
   "id": "74f2d096",
   "metadata": {},
   "source": [
    "## Data Cleaning"
   ]
  },
  {
   "cell_type": "code",
   "execution_count": 3,
   "id": "5fa009d5",
   "metadata": {
    "scrolled": true
   },
   "outputs": [
    {
     "data": {
      "text/html": [
       "<div>\n",
       "<style scoped>\n",
       "    .dataframe tbody tr th:only-of-type {\n",
       "        vertical-align: middle;\n",
       "    }\n",
       "\n",
       "    .dataframe tbody tr th {\n",
       "        vertical-align: top;\n",
       "    }\n",
       "\n",
       "    .dataframe thead th {\n",
       "        text-align: right;\n",
       "    }\n",
       "</style>\n",
       "<table border=\"1\" class=\"dataframe\">\n",
       "  <thead>\n",
       "    <tr style=\"text-align: right;\">\n",
       "      <th></th>\n",
       "      <th>id</th>\n",
       "      <th>is_tv_subscriber</th>\n",
       "      <th>is_movie_package_subscriber</th>\n",
       "      <th>subscription_age</th>\n",
       "      <th>bill_avg</th>\n",
       "      <th>reamining_contract</th>\n",
       "      <th>service_failure_count</th>\n",
       "      <th>download_avg</th>\n",
       "      <th>upload_avg</th>\n",
       "      <th>download_over_limit</th>\n",
       "      <th>churn</th>\n",
       "    </tr>\n",
       "  </thead>\n",
       "  <tbody>\n",
       "    <tr>\n",
       "      <th>count</th>\n",
       "      <td>7.227400e+04</td>\n",
       "      <td>72274.000000</td>\n",
       "      <td>72274.000000</td>\n",
       "      <td>72274.000000</td>\n",
       "      <td>72274.000000</td>\n",
       "      <td>50702.000000</td>\n",
       "      <td>72274.000000</td>\n",
       "      <td>71893.000000</td>\n",
       "      <td>71893.000000</td>\n",
       "      <td>72274.000000</td>\n",
       "      <td>72274.000000</td>\n",
       "    </tr>\n",
       "    <tr>\n",
       "      <th>mean</th>\n",
       "      <td>8.463182e+05</td>\n",
       "      <td>0.815259</td>\n",
       "      <td>0.334629</td>\n",
       "      <td>2.450051</td>\n",
       "      <td>18.942483</td>\n",
       "      <td>0.716039</td>\n",
       "      <td>0.274234</td>\n",
       "      <td>43.689911</td>\n",
       "      <td>4.192076</td>\n",
       "      <td>0.207613</td>\n",
       "      <td>0.554141</td>\n",
       "    </tr>\n",
       "    <tr>\n",
       "      <th>std</th>\n",
       "      <td>4.891022e+05</td>\n",
       "      <td>0.388090</td>\n",
       "      <td>0.471864</td>\n",
       "      <td>2.034990</td>\n",
       "      <td>13.215386</td>\n",
       "      <td>0.697102</td>\n",
       "      <td>0.816621</td>\n",
       "      <td>63.405963</td>\n",
       "      <td>9.818896</td>\n",
       "      <td>0.997123</td>\n",
       "      <td>0.497064</td>\n",
       "    </tr>\n",
       "    <tr>\n",
       "      <th>min</th>\n",
       "      <td>1.500000e+01</td>\n",
       "      <td>0.000000</td>\n",
       "      <td>0.000000</td>\n",
       "      <td>-0.020000</td>\n",
       "      <td>0.000000</td>\n",
       "      <td>0.000000</td>\n",
       "      <td>0.000000</td>\n",
       "      <td>0.000000</td>\n",
       "      <td>0.000000</td>\n",
       "      <td>0.000000</td>\n",
       "      <td>0.000000</td>\n",
       "    </tr>\n",
       "    <tr>\n",
       "      <th>25%</th>\n",
       "      <td>4.222165e+05</td>\n",
       "      <td>1.000000</td>\n",
       "      <td>0.000000</td>\n",
       "      <td>0.930000</td>\n",
       "      <td>13.000000</td>\n",
       "      <td>0.000000</td>\n",
       "      <td>0.000000</td>\n",
       "      <td>6.700000</td>\n",
       "      <td>0.500000</td>\n",
       "      <td>0.000000</td>\n",
       "      <td>0.000000</td>\n",
       "    </tr>\n",
       "    <tr>\n",
       "      <th>50%</th>\n",
       "      <td>8.477840e+05</td>\n",
       "      <td>1.000000</td>\n",
       "      <td>0.000000</td>\n",
       "      <td>1.980000</td>\n",
       "      <td>19.000000</td>\n",
       "      <td>0.570000</td>\n",
       "      <td>0.000000</td>\n",
       "      <td>27.800000</td>\n",
       "      <td>2.100000</td>\n",
       "      <td>0.000000</td>\n",
       "      <td>1.000000</td>\n",
       "    </tr>\n",
       "    <tr>\n",
       "      <th>75%</th>\n",
       "      <td>1.269562e+06</td>\n",
       "      <td>1.000000</td>\n",
       "      <td>1.000000</td>\n",
       "      <td>3.300000</td>\n",
       "      <td>22.000000</td>\n",
       "      <td>1.310000</td>\n",
       "      <td>0.000000</td>\n",
       "      <td>60.500000</td>\n",
       "      <td>4.800000</td>\n",
       "      <td>0.000000</td>\n",
       "      <td>1.000000</td>\n",
       "    </tr>\n",
       "    <tr>\n",
       "      <th>max</th>\n",
       "      <td>1.689744e+06</td>\n",
       "      <td>1.000000</td>\n",
       "      <td>1.000000</td>\n",
       "      <td>12.800000</td>\n",
       "      <td>406.000000</td>\n",
       "      <td>2.920000</td>\n",
       "      <td>19.000000</td>\n",
       "      <td>4415.200000</td>\n",
       "      <td>453.300000</td>\n",
       "      <td>7.000000</td>\n",
       "      <td>1.000000</td>\n",
       "    </tr>\n",
       "  </tbody>\n",
       "</table>\n",
       "</div>"
      ],
      "text/plain": [
       "                 id  is_tv_subscriber  is_movie_package_subscriber  \\\n",
       "count  7.227400e+04      72274.000000                 72274.000000   \n",
       "mean   8.463182e+05          0.815259                     0.334629   \n",
       "std    4.891022e+05          0.388090                     0.471864   \n",
       "min    1.500000e+01          0.000000                     0.000000   \n",
       "25%    4.222165e+05          1.000000                     0.000000   \n",
       "50%    8.477840e+05          1.000000                     0.000000   \n",
       "75%    1.269562e+06          1.000000                     1.000000   \n",
       "max    1.689744e+06          1.000000                     1.000000   \n",
       "\n",
       "       subscription_age      bill_avg  reamining_contract  \\\n",
       "count      72274.000000  72274.000000        50702.000000   \n",
       "mean           2.450051     18.942483            0.716039   \n",
       "std            2.034990     13.215386            0.697102   \n",
       "min           -0.020000      0.000000            0.000000   \n",
       "25%            0.930000     13.000000            0.000000   \n",
       "50%            1.980000     19.000000            0.570000   \n",
       "75%            3.300000     22.000000            1.310000   \n",
       "max           12.800000    406.000000            2.920000   \n",
       "\n",
       "       service_failure_count  download_avg    upload_avg  download_over_limit  \\\n",
       "count           72274.000000  71893.000000  71893.000000         72274.000000   \n",
       "mean                0.274234     43.689911      4.192076             0.207613   \n",
       "std                 0.816621     63.405963      9.818896             0.997123   \n",
       "min                 0.000000      0.000000      0.000000             0.000000   \n",
       "25%                 0.000000      6.700000      0.500000             0.000000   \n",
       "50%                 0.000000     27.800000      2.100000             0.000000   \n",
       "75%                 0.000000     60.500000      4.800000             0.000000   \n",
       "max                19.000000   4415.200000    453.300000             7.000000   \n",
       "\n",
       "              churn  \n",
       "count  72274.000000  \n",
       "mean       0.554141  \n",
       "std        0.497064  \n",
       "min        0.000000  \n",
       "25%        0.000000  \n",
       "50%        1.000000  \n",
       "75%        1.000000  \n",
       "max        1.000000  "
      ]
     },
     "execution_count": 3,
     "metadata": {},
     "output_type": "execute_result"
    }
   ],
   "source": [
    "isc.describe()"
   ]
  },
  {
   "cell_type": "code",
   "execution_count": 4,
   "id": "cd317eb4",
   "metadata": {},
   "outputs": [
    {
     "name": "stdout",
     "output_type": "stream",
     "text": [
      "<class 'pandas.core.frame.DataFrame'>\n",
      "RangeIndex: 72274 entries, 0 to 72273\n",
      "Data columns (total 11 columns):\n",
      " #   Column                       Non-Null Count  Dtype  \n",
      "---  ------                       --------------  -----  \n",
      " 0   id                           72274 non-null  int64  \n",
      " 1   is_tv_subscriber             72274 non-null  int64  \n",
      " 2   is_movie_package_subscriber  72274 non-null  int64  \n",
      " 3   subscription_age             72274 non-null  float64\n",
      " 4   bill_avg                     72274 non-null  int64  \n",
      " 5   reamining_contract           50702 non-null  float64\n",
      " 6   service_failure_count        72274 non-null  int64  \n",
      " 7   download_avg                 71893 non-null  float64\n",
      " 8   upload_avg                   71893 non-null  float64\n",
      " 9   download_over_limit          72274 non-null  int64  \n",
      " 10  churn                        72274 non-null  int64  \n",
      "dtypes: float64(4), int64(7)\n",
      "memory usage: 6.1 MB\n"
     ]
    }
   ],
   "source": [
    "isc.info()"
   ]
  },
  {
   "cell_type": "code",
   "execution_count": 5,
   "id": "0e77cf40",
   "metadata": {
    "scrolled": false
   },
   "outputs": [
    {
     "data": {
      "text/html": [
       "<div>\n",
       "<style scoped>\n",
       "    .dataframe tbody tr th:only-of-type {\n",
       "        vertical-align: middle;\n",
       "    }\n",
       "\n",
       "    .dataframe tbody tr th {\n",
       "        vertical-align: top;\n",
       "    }\n",
       "\n",
       "    .dataframe thead th {\n",
       "        text-align: right;\n",
       "    }\n",
       "</style>\n",
       "<table border=\"1\" class=\"dataframe\">\n",
       "  <thead>\n",
       "    <tr style=\"text-align: right;\">\n",
       "      <th></th>\n",
       "      <th>id</th>\n",
       "      <th>is_tv_subscriber</th>\n",
       "      <th>is_movie_package_subscriber</th>\n",
       "      <th>subscription_age</th>\n",
       "      <th>bill_avg</th>\n",
       "      <th>reamining_contract</th>\n",
       "      <th>service_failure_count</th>\n",
       "      <th>download_avg</th>\n",
       "      <th>upload_avg</th>\n",
       "      <th>download_over_limit</th>\n",
       "      <th>churn</th>\n",
       "    </tr>\n",
       "  </thead>\n",
       "  <tbody>\n",
       "    <tr>\n",
       "      <th>0</th>\n",
       "      <td>15</td>\n",
       "      <td>1</td>\n",
       "      <td>0</td>\n",
       "      <td>11.95</td>\n",
       "      <td>25</td>\n",
       "      <td>0.14</td>\n",
       "      <td>0</td>\n",
       "      <td>8.4</td>\n",
       "      <td>2.3</td>\n",
       "      <td>0</td>\n",
       "      <td>0</td>\n",
       "    </tr>\n",
       "    <tr>\n",
       "      <th>1</th>\n",
       "      <td>18</td>\n",
       "      <td>0</td>\n",
       "      <td>0</td>\n",
       "      <td>8.22</td>\n",
       "      <td>0</td>\n",
       "      <td>NaN</td>\n",
       "      <td>0</td>\n",
       "      <td>0.0</td>\n",
       "      <td>0.0</td>\n",
       "      <td>0</td>\n",
       "      <td>1</td>\n",
       "    </tr>\n",
       "    <tr>\n",
       "      <th>2</th>\n",
       "      <td>23</td>\n",
       "      <td>1</td>\n",
       "      <td>0</td>\n",
       "      <td>8.91</td>\n",
       "      <td>16</td>\n",
       "      <td>0.00</td>\n",
       "      <td>0</td>\n",
       "      <td>13.7</td>\n",
       "      <td>0.9</td>\n",
       "      <td>0</td>\n",
       "      <td>1</td>\n",
       "    </tr>\n",
       "    <tr>\n",
       "      <th>3</th>\n",
       "      <td>27</td>\n",
       "      <td>0</td>\n",
       "      <td>0</td>\n",
       "      <td>6.87</td>\n",
       "      <td>21</td>\n",
       "      <td>NaN</td>\n",
       "      <td>1</td>\n",
       "      <td>0.0</td>\n",
       "      <td>0.0</td>\n",
       "      <td>0</td>\n",
       "      <td>1</td>\n",
       "    </tr>\n",
       "    <tr>\n",
       "      <th>4</th>\n",
       "      <td>34</td>\n",
       "      <td>0</td>\n",
       "      <td>0</td>\n",
       "      <td>6.39</td>\n",
       "      <td>0</td>\n",
       "      <td>NaN</td>\n",
       "      <td>0</td>\n",
       "      <td>0.0</td>\n",
       "      <td>0.0</td>\n",
       "      <td>0</td>\n",
       "      <td>1</td>\n",
       "    </tr>\n",
       "  </tbody>\n",
       "</table>\n",
       "</div>"
      ],
      "text/plain": [
       "   id  is_tv_subscriber  is_movie_package_subscriber  subscription_age  \\\n",
       "0  15                 1                            0             11.95   \n",
       "1  18                 0                            0              8.22   \n",
       "2  23                 1                            0              8.91   \n",
       "3  27                 0                            0              6.87   \n",
       "4  34                 0                            0              6.39   \n",
       "\n",
       "   bill_avg  reamining_contract  service_failure_count  download_avg  \\\n",
       "0        25                0.14                      0           8.4   \n",
       "1         0                 NaN                      0           0.0   \n",
       "2        16                0.00                      0          13.7   \n",
       "3        21                 NaN                      1           0.0   \n",
       "4         0                 NaN                      0           0.0   \n",
       "\n",
       "   upload_avg  download_over_limit  churn  \n",
       "0         2.3                    0      0  \n",
       "1         0.0                    0      1  \n",
       "2         0.9                    0      1  \n",
       "3         0.0                    0      1  \n",
       "4         0.0                    0      1  "
      ]
     },
     "execution_count": 5,
     "metadata": {},
     "output_type": "execute_result"
    }
   ],
   "source": [
    "isc.head(5)"
   ]
  },
  {
   "cell_type": "code",
   "execution_count": 6,
   "id": "68a944c6",
   "metadata": {},
   "outputs": [
    {
     "data": {
      "text/plain": [
       "id                                 0\n",
       "is_tv_subscriber                   0\n",
       "is_movie_package_subscriber        0\n",
       "subscription_age                   0\n",
       "bill_avg                           0\n",
       "reamining_contract             21572\n",
       "service_failure_count              0\n",
       "download_avg                     381\n",
       "upload_avg                       381\n",
       "download_over_limit                0\n",
       "churn                              0\n",
       "dtype: int64"
      ]
     },
     "execution_count": 6,
     "metadata": {},
     "output_type": "execute_result"
    }
   ],
   "source": [
    "isc.isna().sum()"
   ]
  },
  {
   "cell_type": "markdown",
   "id": "2515ee7a",
   "metadata": {},
   "source": [
    "##### Null Values - The remaining_contract has blank values of 21,572 which means the customers never opted for contract. So, we can fill the blank values with 0 meaning no contract. download_avg & upload_avg has 381 blank values which can be deleted for better results."
   ]
  },
  {
   "cell_type": "code",
   "execution_count": 7,
   "id": "2b8b5ea3",
   "metadata": {},
   "outputs": [],
   "source": [
    "isc['reamining_contract'].replace('', np.nan, inplace=True)\n",
    "isc.reamining_contract = isc.reamining_contract.fillna(0)"
   ]
  },
  {
   "cell_type": "code",
   "execution_count": 8,
   "id": "50fcf7ed",
   "metadata": {},
   "outputs": [
    {
     "data": {
      "text/html": [
       "<div>\n",
       "<style scoped>\n",
       "    .dataframe tbody tr th:only-of-type {\n",
       "        vertical-align: middle;\n",
       "    }\n",
       "\n",
       "    .dataframe tbody tr th {\n",
       "        vertical-align: top;\n",
       "    }\n",
       "\n",
       "    .dataframe thead th {\n",
       "        text-align: right;\n",
       "    }\n",
       "</style>\n",
       "<table border=\"1\" class=\"dataframe\">\n",
       "  <thead>\n",
       "    <tr style=\"text-align: right;\">\n",
       "      <th></th>\n",
       "      <th>id</th>\n",
       "      <th>is_tv_subscriber</th>\n",
       "      <th>is_movie_package_subscriber</th>\n",
       "      <th>subscription_age</th>\n",
       "      <th>bill_avg</th>\n",
       "      <th>reamining_contract</th>\n",
       "      <th>service_failure_count</th>\n",
       "      <th>download_avg</th>\n",
       "      <th>upload_avg</th>\n",
       "      <th>download_over_limit</th>\n",
       "      <th>churn</th>\n",
       "    </tr>\n",
       "  </thead>\n",
       "  <tbody>\n",
       "    <tr>\n",
       "      <th>0</th>\n",
       "      <td>15</td>\n",
       "      <td>1</td>\n",
       "      <td>0</td>\n",
       "      <td>11.95</td>\n",
       "      <td>25</td>\n",
       "      <td>0.14</td>\n",
       "      <td>0</td>\n",
       "      <td>8.4</td>\n",
       "      <td>2.3</td>\n",
       "      <td>0</td>\n",
       "      <td>0</td>\n",
       "    </tr>\n",
       "    <tr>\n",
       "      <th>1</th>\n",
       "      <td>18</td>\n",
       "      <td>0</td>\n",
       "      <td>0</td>\n",
       "      <td>8.22</td>\n",
       "      <td>0</td>\n",
       "      <td>0.00</td>\n",
       "      <td>0</td>\n",
       "      <td>0.0</td>\n",
       "      <td>0.0</td>\n",
       "      <td>0</td>\n",
       "      <td>1</td>\n",
       "    </tr>\n",
       "    <tr>\n",
       "      <th>2</th>\n",
       "      <td>23</td>\n",
       "      <td>1</td>\n",
       "      <td>0</td>\n",
       "      <td>8.91</td>\n",
       "      <td>16</td>\n",
       "      <td>0.00</td>\n",
       "      <td>0</td>\n",
       "      <td>13.7</td>\n",
       "      <td>0.9</td>\n",
       "      <td>0</td>\n",
       "      <td>1</td>\n",
       "    </tr>\n",
       "    <tr>\n",
       "      <th>3</th>\n",
       "      <td>27</td>\n",
       "      <td>0</td>\n",
       "      <td>0</td>\n",
       "      <td>6.87</td>\n",
       "      <td>21</td>\n",
       "      <td>0.00</td>\n",
       "      <td>1</td>\n",
       "      <td>0.0</td>\n",
       "      <td>0.0</td>\n",
       "      <td>0</td>\n",
       "      <td>1</td>\n",
       "    </tr>\n",
       "    <tr>\n",
       "      <th>4</th>\n",
       "      <td>34</td>\n",
       "      <td>0</td>\n",
       "      <td>0</td>\n",
       "      <td>6.39</td>\n",
       "      <td>0</td>\n",
       "      <td>0.00</td>\n",
       "      <td>0</td>\n",
       "      <td>0.0</td>\n",
       "      <td>0.0</td>\n",
       "      <td>0</td>\n",
       "      <td>1</td>\n",
       "    </tr>\n",
       "  </tbody>\n",
       "</table>\n",
       "</div>"
      ],
      "text/plain": [
       "   id  is_tv_subscriber  is_movie_package_subscriber  subscription_age  \\\n",
       "0  15                 1                            0             11.95   \n",
       "1  18                 0                            0              8.22   \n",
       "2  23                 1                            0              8.91   \n",
       "3  27                 0                            0              6.87   \n",
       "4  34                 0                            0              6.39   \n",
       "\n",
       "   bill_avg  reamining_contract  service_failure_count  download_avg  \\\n",
       "0        25                0.14                      0           8.4   \n",
       "1         0                0.00                      0           0.0   \n",
       "2        16                0.00                      0          13.7   \n",
       "3        21                0.00                      1           0.0   \n",
       "4         0                0.00                      0           0.0   \n",
       "\n",
       "   upload_avg  download_over_limit  churn  \n",
       "0         2.3                    0      0  \n",
       "1         0.0                    0      1  \n",
       "2         0.9                    0      1  \n",
       "3         0.0                    0      1  \n",
       "4         0.0                    0      1  "
      ]
     },
     "execution_count": 8,
     "metadata": {},
     "output_type": "execute_result"
    }
   ],
   "source": [
    "isc.head()"
   ]
  },
  {
   "cell_type": "code",
   "execution_count": 9,
   "id": "0cc637a9",
   "metadata": {},
   "outputs": [],
   "source": [
    "isc['download_avg'].replace('', np.nan, inplace=True)\n",
    "isc['upload_avg'].replace('',np.nan, inplace=True)\n",
    "isc.dropna(subset=['download_avg'], inplace=True)\n",
    "isc.dropna(subset=['upload_avg'], inplace=True)"
   ]
  },
  {
   "cell_type": "code",
   "execution_count": 10,
   "id": "82a26a41",
   "metadata": {},
   "outputs": [
    {
     "data": {
      "text/plain": [
       "id                             0\n",
       "is_tv_subscriber               0\n",
       "is_movie_package_subscriber    0\n",
       "subscription_age               0\n",
       "bill_avg                       0\n",
       "reamining_contract             0\n",
       "service_failure_count          0\n",
       "download_avg                   0\n",
       "upload_avg                     0\n",
       "download_over_limit            0\n",
       "churn                          0\n",
       "dtype: int64"
      ]
     },
     "execution_count": 10,
     "metadata": {},
     "output_type": "execute_result"
    }
   ],
   "source": [
    "isc.isna().sum()"
   ]
  },
  {
   "cell_type": "code",
   "execution_count": 11,
   "id": "a5355db2",
   "metadata": {},
   "outputs": [
    {
     "name": "stdout",
     "output_type": "stream",
     "text": [
      "<class 'pandas.core.frame.DataFrame'>\n",
      "Int64Index: 71893 entries, 0 to 72273\n",
      "Data columns (total 11 columns):\n",
      " #   Column                       Non-Null Count  Dtype  \n",
      "---  ------                       --------------  -----  \n",
      " 0   id                           71893 non-null  int64  \n",
      " 1   is_tv_subscriber             71893 non-null  int64  \n",
      " 2   is_movie_package_subscriber  71893 non-null  int64  \n",
      " 3   subscription_age             71893 non-null  float64\n",
      " 4   bill_avg                     71893 non-null  int64  \n",
      " 5   reamining_contract           71893 non-null  float64\n",
      " 6   service_failure_count        71893 non-null  int64  \n",
      " 7   download_avg                 71893 non-null  float64\n",
      " 8   upload_avg                   71893 non-null  float64\n",
      " 9   download_over_limit          71893 non-null  int64  \n",
      " 10  churn                        71893 non-null  int64  \n",
      "dtypes: float64(4), int64(7)\n",
      "memory usage: 6.6 MB\n"
     ]
    }
   ],
   "source": [
    "isc.info()"
   ]
  },
  {
   "cell_type": "markdown",
   "id": "c910cb4f",
   "metadata": {},
   "source": [
    "###### Now, the data in all of the columns has non-null values & is ready for data exploration.\n",
    "###### Dataset now consist of 71893 rows & 11 columns."
   ]
  },
  {
   "cell_type": "markdown",
   "id": "4977303d",
   "metadata": {},
   "source": [
    "## Exploratory Data Analysis"
   ]
  },
  {
   "cell_type": "markdown",
   "id": "79df7ad4",
   "metadata": {},
   "source": [
    "### Churn Rate"
   ]
  },
  {
   "cell_type": "code",
   "execution_count": 12,
   "id": "e4645d72",
   "metadata": {},
   "outputs": [
    {
     "data": {
      "text/plain": [
       "<AxesSubplot:title={'center':\"Count of customers who has churned & didn't churn\"}, xlabel='churn', ylabel='count'>"
      ]
     },
     "execution_count": 12,
     "metadata": {},
     "output_type": "execute_result"
    },
    {
     "data": {
      "image/png": "[encoded data removed]",
      "text/plain": [
       "<Figure size 432x288 with 1 Axes>"
      ]
     },
     "metadata": {
      "needs_background": "light"
     },
     "output_type": "display_data"
    }
   ],
   "source": [
    "plt.title(\"Count of customers who has churned & didn't churn\")\n",
    "sn.countplot(x = 'churn' ,  data = isc)"
   ]
  },
  {
   "cell_type": "code",
   "execution_count": 13,
   "id": "15ef5cec",
   "metadata": {},
   "outputs": [
    {
     "data": {
      "text/plain": [
       "1    40050\n",
       "0    31843\n",
       "Name: churn, dtype: int64"
      ]
     },
     "execution_count": 13,
     "metadata": {},
     "output_type": "execute_result"
    }
   ],
   "source": [
    "isc['churn'].value_counts()"
   ]
  },
  {
   "cell_type": "markdown",
   "id": "7e3ebe63",
   "metadata": {},
   "source": [
    "###### The count of people who have already churned is more. There is imbalance in the data with 40050 who has churned & 31843 who has not churned."
   ]
  },
  {
   "cell_type": "code",
   "execution_count": 14,
   "id": "c88f889c",
   "metadata": {},
   "outputs": [
    {
     "data": {
      "text/plain": [
       "is_tv_subscriber               58609\n",
       "is_movie_package_subscriber    24017\n",
       "dtype: int64"
      ]
     },
     "execution_count": 14,
     "metadata": {},
     "output_type": "execute_result"
    }
   ],
   "source": [
    "sub = isc[[\"is_tv_subscriber\",\"is_movie_package_subscriber\"]].sum()\n",
    "sub"
   ]
  },
  {
   "cell_type": "code",
   "execution_count": 15,
   "id": "6330d774",
   "metadata": {},
   "outputs": [
    {
     "data": {
      "text/plain": [
       "is_tv_subscriber  is_movie_package_subscriber\n",
       "0                 0                              13282\n",
       "                  1                                  2\n",
       "1                 0                              34594\n",
       "                  1                              24015\n",
       "Name: is_movie_package_subscriber, dtype: int64"
      ]
     },
     "execution_count": 15,
     "metadata": {},
     "output_type": "execute_result"
    }
   ],
   "source": [
    "isc.groupby('is_tv_subscriber')['is_movie_package_subscriber'].value_counts()"
   ]
  },
  {
   "cell_type": "markdown",
   "id": "5d733c02",
   "metadata": {},
   "source": [
    "###### Customers with tv subscription are more compared to movie package subscribers. \n",
    "###### We can see only 2 customers opted for movie only package otherwise people who opted for movie package also has tv subscription. \n",
    "###### Customers who didn't opted for both tv & movie subscription include 13282. Customers who opted for both tv & movie include 24015."
   ]
  },
  {
   "cell_type": "markdown",
   "id": "04c9961e",
   "metadata": {},
   "source": [
    "## Is Tv subscribers causing churn?"
   ]
  },
  {
   "cell_type": "code",
   "execution_count": 16,
   "id": "94d58e11",
   "metadata": {},
   "outputs": [
    {
     "data": {
      "text/plain": [
       "[Text(0.5, 0, 'Tv subscriber or not')]"
      ]
     },
     "execution_count": 16,
     "metadata": {},
     "output_type": "execute_result"
    },
    {
     "data": {
      "image/png": "[encoded data removed]",
      "text/plain": [
       "<Figure size 432x288 with 1 Axes>"
      ]
     },
     "metadata": {
      "needs_background": "light"
     },
     "output_type": "display_data"
    }
   ],
   "source": [
    "plt.title(\"Count of TV subscribers who churned & didn't churn\")\n",
    "ax = sn.countplot(x = 'is_tv_subscriber' ,  data = isc)\n",
    "ax.set(xlabel='Tv subscriber or not')"
   ]
  },
  {
   "cell_type": "markdown",
   "id": "c013df17",
   "metadata": {},
   "source": [
    "###### The customers who has subscribed to TV are the ones who has churned more. So, is_tv_subscriber is a important factor in prediction."
   ]
  },
  {
   "cell_type": "markdown",
   "id": "b349a6b1",
   "metadata": {},
   "source": [
    "## Is movie subscribers causing churn?"
   ]
  },
  {
   "cell_type": "code",
   "execution_count": 17,
   "id": "b3786453",
   "metadata": {},
   "outputs": [
    {
     "data": {
      "text/plain": [
       "[Text(0.5, 0, 'Movie subscriber or not')]"
      ]
     },
     "execution_count": 17,
     "metadata": {},
     "output_type": "execute_result"
    },
    {
     "data": {
      "image/png": "[encoded data removed]",
      "text/plain": [
       "<Figure size 432x288 with 1 Axes>"
      ]
     },
     "metadata": {
      "needs_background": "light"
     },
     "output_type": "display_data"
    }
   ],
   "source": [
    "plt.title(\"Count of movie subscribers who churned & didn't churn\")\n",
    "ax = sn.countplot(x = 'is_movie_package_subscriber' ,  data = isc)\n",
    "ax.set(xlabel='Movie subscriber or not')"
   ]
  },
  {
   "cell_type": "markdown",
   "id": "91899bbd",
   "metadata": {},
   "source": [
    "###### Movie package subscribers has lower churn rate & also customers who has opted for movie package are low. So, is_movie_package_subscriber cannot be considered an important factor in prediction."
   ]
  },
  {
   "cell_type": "code",
   "execution_count": 18,
   "id": "617d2c2e",
   "metadata": {},
   "outputs": [
    {
     "data": {
      "text/html": [
       "<div>\n",
       "<style scoped>\n",
       "    .dataframe tbody tr th:only-of-type {\n",
       "        vertical-align: middle;\n",
       "    }\n",
       "\n",
       "    .dataframe tbody tr th {\n",
       "        vertical-align: top;\n",
       "    }\n",
       "\n",
       "    .dataframe thead tr th {\n",
       "        text-align: left;\n",
       "    }\n",
       "\n",
       "    .dataframe thead tr:last-of-type th {\n",
       "        text-align: right;\n",
       "    }\n",
       "</style>\n",
       "<table border=\"1\" class=\"dataframe\">\n",
       "  <thead>\n",
       "    <tr>\n",
       "      <th></th>\n",
       "      <th></th>\n",
       "      <th>churn</th>\n",
       "    </tr>\n",
       "    <tr>\n",
       "      <th></th>\n",
       "      <th></th>\n",
       "      <th>sum</th>\n",
       "    </tr>\n",
       "    <tr>\n",
       "      <th>is_tv_subscriber</th>\n",
       "      <th>is_movie_package_subscriber</th>\n",
       "      <th></th>\n",
       "    </tr>\n",
       "  </thead>\n",
       "  <tbody>\n",
       "    <tr>\n",
       "      <th rowspan=\"2\" valign=\"top\">0</th>\n",
       "      <th>0</th>\n",
       "      <td>11964</td>\n",
       "    </tr>\n",
       "    <tr>\n",
       "      <th>1</th>\n",
       "      <td>2</td>\n",
       "    </tr>\n",
       "    <tr>\n",
       "      <th rowspan=\"2\" valign=\"top\">1</th>\n",
       "      <th>0</th>\n",
       "      <td>19891</td>\n",
       "    </tr>\n",
       "    <tr>\n",
       "      <th>1</th>\n",
       "      <td>8193</td>\n",
       "    </tr>\n",
       "  </tbody>\n",
       "</table>\n",
       "</div>"
      ],
      "text/plain": [
       "                                              churn\n",
       "                                                sum\n",
       "is_tv_subscriber is_movie_package_subscriber       \n",
       "0                0                            11964\n",
       "                 1                                2\n",
       "1                0                            19891\n",
       "                 1                             8193"
      ]
     },
     "execution_count": 18,
     "metadata": {},
     "output_type": "execute_result"
    }
   ],
   "source": [
    "isc.groupby(['is_tv_subscriber', 'is_movie_package_subscriber'])[['churn']].agg(['sum'])"
   ]
  },
  {
   "cell_type": "markdown",
   "id": "773be111",
   "metadata": {},
   "source": [
    "###### We can see that customers who have opted for both tv & movie subscription have less churn rate. \n",
    "###### Customers who do not have subscriptions & also customers with tv subscription only has higher churn rate."
   ]
  },
  {
   "cell_type": "markdown",
   "id": "ab03575d",
   "metadata": {},
   "source": [
    "## Do customers churn less with higher subscription years?"
   ]
  },
  {
   "cell_type": "code",
   "execution_count": 19,
   "id": "a8fa682b",
   "metadata": {},
   "outputs": [
    {
     "data": {
      "image/png": "[encoded data removed]",
      "text/plain": [
       "<Figure size 432x288 with 1 Axes>"
      ]
     },
     "metadata": {
      "needs_background": "light"
     },
     "output_type": "display_data"
    }
   ],
   "source": [
    "sn.boxplot(x=\"churn\",y=\"subscription_age\",data=isc)\n",
    "plt.show() "
   ]
  },
  {
   "cell_type": "markdown",
   "id": "44d47a9b",
   "metadata": {},
   "source": [
    "###### We can see that the most of the customers who has not churned has subscription age lies between 1 to 4 years & there are some higher subscription age who has not churned. \n",
    "###### But for the customers who has churned subscription age lies between 1.5 to 3 years & there are exceptions with customers having high subscription age causing churn. Mostly, customers try to leave the service before 3 years."
   ]
  },
  {
   "cell_type": "code",
   "execution_count": 20,
   "id": "bcb8bfa5",
   "metadata": {},
   "outputs": [
    {
     "data": {
      "image/png": "[encoded data removed]",
      "text/plain": [
       "<Figure size 720x432 with 1 Axes>"
      ]
     },
     "metadata": {
      "needs_background": "light"
     },
     "output_type": "display_data"
    }
   ],
   "source": [
    "plt.figure(figsize = (10,6))\n",
    "sn.histplot(data = isc, x= 'subscription_age', kde = True, hue = 'churn')\n",
    "plt.title('Subscription Age vs Count')\n",
    "plt.show()"
   ]
  },
  {
   "cell_type": "markdown",
   "id": "782e7c06",
   "metadata": {},
   "source": [
    "###### Subscription age mostly lies in 0 to 4 years & customers with high subscription age are less. The churn rate is also higher in the 0 to 4 years subscription age. So, subscription_age is a important factor in churn prediction. "
   ]
  },
  {
   "cell_type": "markdown",
   "id": "2c01222e",
   "metadata": {},
   "source": [
    "## Is the customers bill average caused effect on churn rate? "
   ]
  },
  {
   "cell_type": "code",
   "execution_count": 21,
   "id": "ed83b428",
   "metadata": {},
   "outputs": [
    {
     "data": {
      "image/png": "[encoded data removed]",
      "text/plain": [
       "<Figure size 432x288 with 1 Axes>"
      ]
     },
     "metadata": {
      "needs_background": "light"
     },
     "output_type": "display_data"
    }
   ],
   "source": [
    "sn.boxplot(x=\"churn\",y=\"bill_avg\",data=isc)\n",
    "plt.show() "
   ]
  },
  {
   "cell_type": "markdown",
   "id": "63312d3c",
   "metadata": {},
   "source": [
    "###### Bill average most of it's values lies in between 10 to 40 dollars for customers who churn and who do not churn. There are exceptions with higher bill average customers being non - churner & also higher bill average customers being churners."
   ]
  },
  {
   "cell_type": "code",
   "execution_count": 22,
   "id": "adb80589",
   "metadata": {},
   "outputs": [
    {
     "data": {
      "image/png": "[encoded data removed]",
      "text/plain": [
       "<Figure size 432x288 with 1 Axes>"
      ]
     },
     "metadata": {
      "needs_background": "light"
     },
     "output_type": "display_data"
    },
    {
     "data": {
      "image/png": "[encoded data removed]",
      "text/plain": [
       "<Figure size 432x288 with 1 Axes>"
      ]
     },
     "metadata": {
      "needs_background": "light"
     },
     "output_type": "display_data"
    }
   ],
   "source": [
    "subscribers=[\"is_tv_subscriber\",\"is_movie_package_subscriber\"]\n",
    "for i in subscribers:\n",
    "    sn.barplot(x=\"churn\",y=\"bill_avg\",data=isc,hue=i)\n",
    "    plt.title(\"avg bill of \"+ i)\n",
    "    plt.show()"
   ]
  },
  {
   "cell_type": "code",
   "execution_count": 23,
   "id": "da1386de",
   "metadata": {},
   "outputs": [
    {
     "data": {
      "text/html": [
       "<div>\n",
       "<style scoped>\n",
       "    .dataframe tbody tr th:only-of-type {\n",
       "        vertical-align: middle;\n",
       "    }\n",
       "\n",
       "    .dataframe tbody tr th {\n",
       "        vertical-align: top;\n",
       "    }\n",
       "\n",
       "    .dataframe thead tr th {\n",
       "        text-align: left;\n",
       "    }\n",
       "\n",
       "    .dataframe thead tr:last-of-type th {\n",
       "        text-align: right;\n",
       "    }\n",
       "</style>\n",
       "<table border=\"1\" class=\"dataframe\">\n",
       "  <thead>\n",
       "    <tr>\n",
       "      <th></th>\n",
       "      <th></th>\n",
       "      <th>bill_avg</th>\n",
       "      <th>churn</th>\n",
       "    </tr>\n",
       "    <tr>\n",
       "      <th></th>\n",
       "      <th></th>\n",
       "      <th>sum</th>\n",
       "      <th>sum</th>\n",
       "    </tr>\n",
       "    <tr>\n",
       "      <th>is_tv_subscriber</th>\n",
       "      <th>is_movie_package_subscriber</th>\n",
       "      <th></th>\n",
       "      <th></th>\n",
       "    </tr>\n",
       "  </thead>\n",
       "  <tbody>\n",
       "    <tr>\n",
       "      <th rowspan=\"2\" valign=\"top\">0</th>\n",
       "      <th>0</th>\n",
       "      <td>280632</td>\n",
       "      <td>11964</td>\n",
       "    </tr>\n",
       "    <tr>\n",
       "      <th>1</th>\n",
       "      <td>28</td>\n",
       "      <td>2</td>\n",
       "    </tr>\n",
       "    <tr>\n",
       "      <th rowspan=\"2\" valign=\"top\">1</th>\n",
       "      <th>0</th>\n",
       "      <td>639313</td>\n",
       "      <td>19891</td>\n",
       "    </tr>\n",
       "    <tr>\n",
       "      <th>1</th>\n",
       "      <td>447205</td>\n",
       "      <td>8193</td>\n",
       "    </tr>\n",
       "  </tbody>\n",
       "</table>\n",
       "</div>"
      ],
      "text/plain": [
       "                                             bill_avg  churn\n",
       "                                                  sum    sum\n",
       "is_tv_subscriber is_movie_package_subscriber                \n",
       "0                0                             280632  11964\n",
       "                 1                                 28      2\n",
       "1                0                             639313  19891\n",
       "                 1                             447205   8193"
      ]
     },
     "execution_count": 23,
     "metadata": {},
     "output_type": "execute_result"
    }
   ],
   "source": [
    "isc.groupby(['is_tv_subscriber', 'is_movie_package_subscriber'])[['bill_avg','churn']].agg(['sum'])"
   ]
  },
  {
   "cell_type": "markdown",
   "id": "8059ae4e",
   "metadata": {},
   "source": [
    "###### The customers who didn't have any subscription has lower average bill but still had a good amount of churn.\n",
    "###### The cusomers who only has tv subscription has higher average bill with highest churn rate.\n",
    "###### Customers with both subscription has the lowest churn rate.\n"
   ]
  },
  {
   "cell_type": "markdown",
   "id": "aef45597",
   "metadata": {},
   "source": [
    "###### Thus, Bill average overall can be considered a factor which can cause the customer to churn"
   ]
  },
  {
   "cell_type": "markdown",
   "id": "67c35f34",
   "metadata": {},
   "source": [
    "## Is remaining contract effects churn rate?"
   ]
  },
  {
   "cell_type": "code",
   "execution_count": 24,
   "id": "277b9497",
   "metadata": {},
   "outputs": [
    {
     "data": {
      "image/png": "[encoded data removed]",
      "text/plain": [
       "<Figure size 432x288 with 1 Axes>"
      ]
     },
     "metadata": {
      "needs_background": "light"
     },
     "output_type": "display_data"
    }
   ],
   "source": [
    "sn.boxplot(x=\"churn\",y=\"reamining_contract\",data=isc)\n",
    "plt.show() "
   ]
  },
  {
   "cell_type": "markdown",
   "id": "e1b50910",
   "metadata": {},
   "source": [
    "###### We find that customers who have no contract are the ones who churn because if they cancel while in contract they have to pay penalty. There are exceptions with customers who had contract but still churned.\n",
    "###### Thus, remaining contract is a important factor in churn prediction."
   ]
  },
  {
   "cell_type": "markdown",
   "id": "38496bb6",
   "metadata": {},
   "source": [
    "## Do customers having service failure causing churn?"
   ]
  },
  {
   "cell_type": "code",
   "execution_count": 25,
   "id": "38d45d88",
   "metadata": {},
   "outputs": [
    {
     "data": {
      "image/png": "[encoded data removed]",
      "text/plain": [
       "<Figure size 432x288 with 1 Axes>"
      ]
     },
     "metadata": {
      "needs_background": "light"
     },
     "output_type": "display_data"
    }
   ],
   "source": [
    "sn.boxplot(x=\"churn\",y=\"service_failure_count\",data=isc)\n",
    "plt.show() "
   ]
  },
  {
   "cell_type": "markdown",
   "id": "58ac0b1b",
   "metadata": {},
   "source": [
    "###### Customers with higher service failure calls have churned but we can also see the customer who also have high service failure calls has no churn. \n",
    "###### But overall if service failure counts do go high it can lead the customer to quit the service."
   ]
  },
  {
   "cell_type": "markdown",
   "id": "54f16ff1",
   "metadata": {},
   "source": [
    "## Is download average of customers causing churn?"
   ]
  },
  {
   "cell_type": "code",
   "execution_count": 26,
   "id": "15e7beeb",
   "metadata": {},
   "outputs": [
    {
     "data": {
      "image/png": "[encoded data removed]",
      "text/plain": [
       "<Figure size 432x288 with 1 Axes>"
      ]
     },
     "metadata": {
      "needs_background": "light"
     },
     "output_type": "display_data"
    }
   ],
   "source": [
    "sn.boxplot(x=\"churn\",y=\"download_avg\",data=isc)\n",
    "plt.show() "
   ]
  },
  {
   "cell_type": "markdown",
   "id": "edf7685f",
   "metadata": {},
   "source": [
    "###### The download_average doesn't seem to be a factor in churn prediction."
   ]
  },
  {
   "cell_type": "markdown",
   "id": "7235db8b",
   "metadata": {},
   "source": [
    "## Is upload average of customers causing churn?"
   ]
  },
  {
   "cell_type": "code",
   "execution_count": 27,
   "id": "76b9a0b4",
   "metadata": {},
   "outputs": [
    {
     "data": {
      "image/png": "[encoded data removed]",
      "text/plain": [
       "<Figure size 432x288 with 1 Axes>"
      ]
     },
     "metadata": {
      "needs_background": "light"
     },
     "output_type": "display_data"
    }
   ],
   "source": [
    "sn.boxplot(x=\"churn\",y=\"upload_avg\",data=isc)\n",
    "plt.show() "
   ]
  },
  {
   "cell_type": "markdown",
   "id": "7cd8e8f8",
   "metadata": {},
   "source": [
    "###### The upload_average doesn't seem to be a factor in churn prediction."
   ]
  },
  {
   "cell_type": "code",
   "execution_count": 28,
   "id": "0dbdda6f",
   "metadata": {},
   "outputs": [
    {
     "data": {
      "text/html": [
       "<div>\n",
       "<style scoped>\n",
       "    .dataframe tbody tr th:only-of-type {\n",
       "        vertical-align: middle;\n",
       "    }\n",
       "\n",
       "    .dataframe tbody tr th {\n",
       "        vertical-align: top;\n",
       "    }\n",
       "\n",
       "    .dataframe thead tr th {\n",
       "        text-align: left;\n",
       "    }\n",
       "\n",
       "    .dataframe thead tr:last-of-type th {\n",
       "        text-align: right;\n",
       "    }\n",
       "</style>\n",
       "<table border=\"1\" class=\"dataframe\">\n",
       "  <thead>\n",
       "    <tr>\n",
       "      <th></th>\n",
       "      <th></th>\n",
       "      <th>download_avg</th>\n",
       "      <th>upload_avg</th>\n",
       "      <th>churn</th>\n",
       "    </tr>\n",
       "    <tr>\n",
       "      <th></th>\n",
       "      <th></th>\n",
       "      <th>sum</th>\n",
       "      <th>sum</th>\n",
       "      <th>sum</th>\n",
       "    </tr>\n",
       "    <tr>\n",
       "      <th>is_tv_subscriber</th>\n",
       "      <th>is_movie_package_subscriber</th>\n",
       "      <th></th>\n",
       "      <th></th>\n",
       "      <th></th>\n",
       "    </tr>\n",
       "  </thead>\n",
       "  <tbody>\n",
       "    <tr>\n",
       "      <th rowspan=\"2\" valign=\"top\">0</th>\n",
       "      <th>0</th>\n",
       "      <td>347380.1</td>\n",
       "      <td>37656.9</td>\n",
       "      <td>11964</td>\n",
       "    </tr>\n",
       "    <tr>\n",
       "      <th>1</th>\n",
       "      <td>83.2</td>\n",
       "      <td>5.7</td>\n",
       "      <td>2</td>\n",
       "    </tr>\n",
       "    <tr>\n",
       "      <th rowspan=\"2\" valign=\"top\">1</th>\n",
       "      <th>0</th>\n",
       "      <td>1399045.1</td>\n",
       "      <td>131995.1</td>\n",
       "      <td>19891</td>\n",
       "    </tr>\n",
       "    <tr>\n",
       "      <th>1</th>\n",
       "      <td>1394490.4</td>\n",
       "      <td>131723.2</td>\n",
       "      <td>8193</td>\n",
       "    </tr>\n",
       "  </tbody>\n",
       "</table>\n",
       "</div>"
      ],
      "text/plain": [
       "                                             download_avg upload_avg  churn\n",
       "                                                      sum        sum    sum\n",
       "is_tv_subscriber is_movie_package_subscriber                               \n",
       "0                0                               347380.1    37656.9  11964\n",
       "                 1                                   83.2        5.7      2\n",
       "1                0                              1399045.1   131995.1  19891\n",
       "                 1                              1394490.4   131723.2   8193"
      ]
     },
     "execution_count": 28,
     "metadata": {},
     "output_type": "execute_result"
    }
   ],
   "source": [
    "isc.groupby(['is_tv_subscriber', 'is_movie_package_subscriber'])[['download_avg','upload_avg','churn']].agg(['sum'])"
   ]
  },
  {
   "cell_type": "markdown",
   "id": "5dc578af",
   "metadata": {},
   "source": [
    "###### The data shows the customers with tv subscription & both tv and movie subscription has the highest data usage."
   ]
  },
  {
   "cell_type": "markdown",
   "id": "7098c247",
   "metadata": {},
   "source": [
    "## Is customers doing download over limit leading to churn?"
   ]
  },
  {
   "cell_type": "code",
   "execution_count": 29,
   "id": "a253c893",
   "metadata": {},
   "outputs": [
    {
     "data": {
      "image/png": "[encoded data removed]",
      "text/plain": [
       "<Figure size 432x288 with 1 Axes>"
      ]
     },
     "metadata": {
      "needs_background": "light"
     },
     "output_type": "display_data"
    }
   ],
   "source": [
    "sn.boxplot(x=\"churn\",y=\"download_over_limit\",data=isc)\n",
    "plt.show() "
   ]
  },
  {
   "cell_type": "markdown",
   "id": "edf35e52",
   "metadata": {},
   "source": [
    "###### In reality, customers will be real careful about download over limit & also receive warnings if they reach the limit. \n",
    "###### Also, in the graph we cannot see relation between download over limit & churn."
   ]
  },
  {
   "cell_type": "code",
   "execution_count": 47,
   "id": "1133d3a1",
   "metadata": {},
   "outputs": [],
   "source": [
    "correlation = isc.corr()"
   ]
  },
  {
   "cell_type": "code",
   "execution_count": 48,
   "id": "83f2e7c4",
   "metadata": {},
   "outputs": [
    {
     "data": {
      "image/png": "[encoded data removed]",
      "text/plain": [
       "<Figure size 1080x576 with 2 Axes>"
      ]
     },
     "metadata": {
      "needs_background": "light"
     },
     "output_type": "display_data"
    }
   ],
   "source": [
    "plt.figure(figsize=(15,8))\n",
    "\n",
    "sn.heatmap(correlation,vmin=-1,vmax=1,annot=True)\n",
    "plt.show()"
   ]
  },
  {
   "cell_type": "markdown",
   "id": "3bdfb49a",
   "metadata": {},
   "source": [
    "###### We can see from the heatmap service_failure_count & download_over_limit shows the highest correlation with churn. "
   ]
  },
  {
   "cell_type": "markdown",
   "id": "1672a335",
   "metadata": {},
   "source": [
    "## Logistic Regression Modeling"
   ]
  },
  {
   "cell_type": "code",
   "execution_count": 210,
   "id": "071d789c",
   "metadata": {},
   "outputs": [],
   "source": [
    "from sklearn.model_selection import train_test_split\n",
    "\n",
    "x_vars = isc[['is_tv_subscriber','is_movie_package_subscriber','subscription_age','bill_avg','service_failure_count',\n",
    "         'download_avg','reamining_contract']]\n",
    "y_var  = isc['churn']\n",
    "\n",
    "xTrain, xValid, yTrain, yValid = train_test_split(x_vars, y_var, train_size=0.25, random_state=2)"
   ]
  },
  {
   "cell_type": "code",
   "execution_count": 211,
   "id": "0fa64f58",
   "metadata": {},
   "outputs": [],
   "source": [
    "from sklearn.linear_model import LogisticRegression\n",
    "LogitModel = LogisticRegression()"
   ]
  },
  {
   "cell_type": "code",
   "execution_count": 212,
   "id": "61ee0cb7",
   "metadata": {},
   "outputs": [
    {
     "data": {
      "text/plain": [
       "0.8702498191732042"
      ]
     },
     "execution_count": 212,
     "metadata": {},
     "output_type": "execute_result"
    }
   ],
   "source": [
    "LogitModel.fit(xTrain,yTrain)\n",
    "\n",
    "from sklearn.metrics import accuracy_score\n",
    "predictions = LogitModel.predict(xTrain)\n",
    "accuracy_score(yTrain, predictions)"
   ]
  },
  {
   "cell_type": "markdown",
   "id": "427eeed8",
   "metadata": {},
   "source": [
    "###### The customer who is going to churn can be predicted with 87.02% accuracy."
   ]
  },
  {
   "cell_type": "code",
   "execution_count": 213,
   "id": "819c38f3",
   "metadata": {},
   "outputs": [
    {
     "data": {
      "text/plain": [
       "0.8689910979228487"
      ]
     },
     "execution_count": 213,
     "metadata": {},
     "output_type": "execute_result"
    }
   ],
   "source": [
    "predictions2 = LogitModel.predict(xValid)\n",
    "accuracy_score(yValid, predictions2)"
   ]
  },
  {
   "cell_type": "code",
   "execution_count": 177,
   "id": "688e3cd1",
   "metadata": {},
   "outputs": [
    {
     "data": {
      "text/plain": [
       "array([[19254,  4651],\n",
       "       [ 2413, 27602]], dtype=int64)"
      ]
     },
     "execution_count": 177,
     "metadata": {},
     "output_type": "execute_result"
    }
   ],
   "source": [
    "from sklearn.metrics import confusion_matrix\n",
    "confusion_matrix(yValid, predictions2)"
   ]
  },
  {
   "cell_type": "code",
   "execution_count": 178,
   "id": "238883a0",
   "metadata": {},
   "outputs": [
    {
     "data": {
      "text/plain": [
       "<AxesSubplot:xlabel='Predicted', ylabel='Actual'>"
      ]
     },
     "execution_count": 178,
     "metadata": {},
     "output_type": "execute_result"
    },
    {
     "data": {
      "image/png": "[encoded data removed]",
      "text/plain": [
       "<Figure size 432x288 with 2 Axes>"
      ]
     },
     "metadata": {
      "needs_background": "light"
     },
     "output_type": "display_data"
    }
   ],
   "source": [
    "confusion_matrix(yValid, predictions2)\n",
    "confusion_matrix = pd.crosstab(yValid, predictions2, rownames=['Actual'], colnames=['Predicted'])\n",
    "sn.heatmap(confusion_matrix, annot=True)"
   ]
  },
  {
   "cell_type": "markdown",
   "id": "6e6924c4",
   "metadata": {},
   "source": [
    "###### Columns are predictions & rows are actual observations. Darker boxes are the ones showing wrong prediction for churn. Lighter boxes shows how many values were corrrectly predicted. \n",
    "###### The values in the darker boxes are column are low compared to the lighter boxes thus showing good accuracy."
   ]
  },
  {
   "cell_type": "code",
   "execution_count": 197,
   "id": "9a87d13c",
   "metadata": {},
   "outputs": [
    {
     "name": "stderr",
     "output_type": "stream",
     "text": [
      "C:\\Users\\Abe\\anaconda3\\lib\\site-packages\\statsmodels\\tsa\\tsatools.py:142: FutureWarning: In a future version of pandas all arguments of concat except for the argument 'objs' will be keyword-only\n",
      "  x = pd.concat(x[::order], 1)\n"
     ]
    }
   ],
   "source": [
    "import statsmodels.api as sm\n",
    "x_inc = isc[['is_tv_subscriber','is_movie_package_subscriber','subscription_age','service_failure_count',\n",
    "         'download_avg','download_over_limit','reamining_contract']]\n",
    "x_inc = sm.add_constant(x_inc)\n",
    "y_var = isc['churn']"
   ]
  },
  {
   "cell_type": "code",
   "execution_count": 198,
   "id": "bab3855d",
   "metadata": {},
   "outputs": [],
   "source": [
    "xTrain1, xValid1, yTrain, yValid = train_test_split(x_inc, y_var, train_size=0.6, random_state=2)"
   ]
  },
  {
   "cell_type": "code",
   "execution_count": 199,
   "id": "b077401a",
   "metadata": {},
   "outputs": [
    {
     "name": "stdout",
     "output_type": "stream",
     "text": [
      "Optimization terminated successfully.\n",
      "         Current function value: 0.341125\n",
      "         Iterations 8\n",
      "                           Logit Regression Results                           \n",
      "==============================================================================\n",
      "Dep. Variable:                  churn   No. Observations:                43135\n",
      "Model:                          Logit   Df Residuals:                    43127\n",
      "Method:                           MLE   Df Model:                            7\n",
      "Date:                Sun, 06 Feb 2022   Pseudo R-squ.:                  0.5031\n",
      "Time:                        22:35:52   Log-Likelihood:                -14714.\n",
      "converged:                       True   LL-Null:                       -29613.\n",
      "Covariance Type:            nonrobust   LLR p-value:                     0.000\n",
      "===============================================================================================\n",
      "                                  coef    std err          z      P>|z|      [0.025      0.975]\n",
      "-----------------------------------------------------------------------------------------------\n",
      "const                           4.2052      0.062     68.054      0.000       4.084       4.326\n",
      "is_tv_subscriber               -1.7330      0.057    -30.207      0.000      -1.845      -1.621\n",
      "is_movie_package_subscriber    -0.0631      0.033     -1.919      0.055      -0.128       0.001\n",
      "subscription_age               -0.2570      0.008    -33.732      0.000      -0.272      -0.242\n",
      "service_failure_count           0.1520      0.020      7.723      0.000       0.113       0.191\n",
      "download_avg                   -0.0112      0.000    -34.939      0.000      -0.012      -0.011\n",
      "download_over_limit             0.5119      0.039     13.259      0.000       0.436       0.588\n",
      "reamining_contract             -3.1720      0.033    -96.283      0.000      -3.237      -3.107\n",
      "===============================================================================================\n"
     ]
    }
   ],
   "source": [
    "Logit_Inc = sm.Logit(yTrain, xTrain1)\n",
    "results_Inc = Logit_Inc.fit()\n",
    "print(results_Inc.summary())"
   ]
  },
  {
   "cell_type": "markdown",
   "id": "64a4d56f",
   "metadata": {},
   "source": [
    "###### The features which were statiscally unsignificant were removed which include bill_avg & upload_avg.  The statiscally significant features are the ones which can decide which customer will churn."
   ]
  },
  {
   "cell_type": "markdown",
   "id": "5d3f3281",
   "metadata": {},
   "source": [
    "## PCA Analysis"
   ]
  },
  {
   "cell_type": "code",
   "execution_count": 243,
   "id": "4ad8b3e4",
   "metadata": {},
   "outputs": [],
   "source": [
    "x = isc.drop(['churn'],axis=1)\n",
    "y = isc['churn']"
   ]
  },
  {
   "cell_type": "code",
   "execution_count": 244,
   "id": "d24747ae",
   "metadata": {},
   "outputs": [],
   "source": [
    "from sklearn.preprocessing import StandardScaler"
   ]
  },
  {
   "cell_type": "code",
   "execution_count": 245,
   "id": "d6852cdb",
   "metadata": {},
   "outputs": [],
   "source": [
    "scaler = StandardScaler()\n",
    "scaler.fit(x)\n",
    "x_std = scaler.transform(x)"
   ]
  },
  {
   "cell_type": "code",
   "execution_count": 246,
   "id": "4a5857dc",
   "metadata": {},
   "outputs": [
    {
     "data": {
      "text/plain": [
       "array([[ 1.00001391,  0.28338851,  0.13164944, -0.59880854,  0.02872402,\n",
       "         0.44706409, -0.02465555,  0.24128153,  0.14593853, -0.22917916],\n",
       "       [ 0.28338851,  1.00001391,  0.33704896,  0.08999466, -0.07619867,\n",
       "         0.25742762, -0.01602325,  0.13165186,  0.06579206, -0.1038085 ],\n",
       "       [ 0.13164944,  0.33704896,  1.00001391,  0.13453593, -0.02123091,\n",
       "         0.34552978,  0.0138045 ,  0.16059176,  0.09325221, -0.02618727],\n",
       "       [-0.59880854,  0.08999466,  0.13453593,  1.00001391,  0.06093163,\n",
       "        -0.01684675,  0.00252781,  0.06933226,  0.03027744,  0.02329489],\n",
       "       [ 0.02872402, -0.07619867, -0.02123091,  0.06093163,  1.00001391,\n",
       "        -0.05942165,  0.09988654,  0.43168021,  0.33424021, -0.23503598],\n",
       "       [ 0.44706409,  0.25742762,  0.34552978, -0.01684675, -0.05942165,\n",
       "         1.00001391, -0.00721302,  0.20330786,  0.10378493, -0.12020181],\n",
       "       [-0.02465555, -0.01602325,  0.0138045 ,  0.00252781,  0.09988654,\n",
       "        -0.00721302,  1.00001391,  0.08048424,  0.07069993,  0.00458174],\n",
       "       [ 0.24128153,  0.13165186,  0.16059176,  0.06933226,  0.43168021,\n",
       "         0.20330786,  0.08048424,  1.00001391,  0.5544436 , -0.11432314],\n",
       "       [ 0.14593853,  0.06579206,  0.09325221,  0.03027744,  0.33424021,\n",
       "         0.10378493,  0.07069993,  0.5544436 ,  1.00001391, -0.0691931 ],\n",
       "       [-0.22917916, -0.1038085 , -0.02618727,  0.02329489, -0.23503598,\n",
       "        -0.12020181,  0.00458174, -0.11432314, -0.0691931 ,  1.00001391]])"
      ]
     },
     "execution_count": 246,
     "metadata": {},
     "output_type": "execute_result"
    }
   ],
   "source": [
    "np.cov(x_std.T)"
   ]
  },
  {
   "cell_type": "code",
   "execution_count": 249,
   "id": "6d462684",
   "metadata": {},
   "outputs": [
    {
     "name": "stdout",
     "output_type": "stream",
     "text": [
      "Eigen values in descending order:\n",
      "2.3427367578933453\n",
      "1.714715582497532\n",
      "1.4619647306310952\n",
      "0.19928408531250627\n",
      "1.0108740696584515\n",
      "0.9584598667007784\n",
      "0.40130113544682294\n",
      "0.550464418973559\n",
      "0.726441929519642\n",
      "0.6338965209008021\n"
     ]
    }
   ],
   "source": [
    "cov_mat = np.cov(x_std.T)\n",
    "eig_vals, eig_vecs = np.linalg.eig(cov_mat)\n",
    "eig_pairs = [(np.abs(eig_vals[i]),eig_vecs[:,i]) for i in range(len(eig_vals))]\n",
    "print(\"Eigen values in descending order:\")\n",
    "for i in eig_pairs:\n",
    "    print(i[0])"
   ]
  },
  {
   "cell_type": "code",
   "execution_count": 251,
   "id": "b9e8241d",
   "metadata": {},
   "outputs": [
    {
     "data": {
      "image/png": "[encoded data removed]",
      "text/plain": [
       "<Figure size 432x288 with 1 Axes>"
      ]
     },
     "metadata": {
      "needs_background": "light"
     },
     "output_type": "display_data"
    }
   ],
   "source": [
    "from sklearn.decomposition import PCA\n",
    "pca = PCA().fit(x_std)\n",
    "plt.plot(np.cumsum(pca.explained_variance_ratio_))\n",
    "plt.xlabel(\"number of components\")\n",
    "plt.ylabel(\"cumulative explained variance\")\n",
    "plt.show()"
   ]
  },
  {
   "cell_type": "code",
   "execution_count": 256,
   "id": "1ab6468b",
   "metadata": {},
   "outputs": [
    {
     "name": "stdout",
     "output_type": "stream",
     "text": [
      "[0.23427042 0.17146917 0.14619444 0.101086   0.09584465]\n"
     ]
    }
   ],
   "source": [
    "pca = PCA(n_components=5)\n",
    "x_pca = pca.fit_transform(x_std)\n",
    "print(pca.explained_variance_ratio_)"
   ]
  },
  {
   "cell_type": "code",
   "execution_count": 254,
   "id": "631fcd4a",
   "metadata": {},
   "outputs": [
    {
     "data": {
      "text/plain": [
       "0.73"
      ]
     },
     "execution_count": 254,
     "metadata": {},
     "output_type": "execute_result"
    }
   ],
   "source": [
    ".23+.17+.14+.10+.09"
   ]
  },
  {
   "cell_type": "markdown",
   "id": "215bf1c0",
   "metadata": {},
   "source": [
    "###### 73% of  the variance is explained when we use 5 components. "
   ]
  },
  {
   "cell_type": "code",
   "execution_count": 257,
   "id": "2243601d",
   "metadata": {},
   "outputs": [
    {
     "data": {
      "text/plain": [
       "(71893, 5)"
      ]
     },
     "execution_count": 257,
     "metadata": {},
     "output_type": "execute_result"
    }
   ],
   "source": [
    "x_pca.shape"
   ]
  },
  {
   "cell_type": "code",
   "execution_count": 261,
   "id": "5fa00736",
   "metadata": {},
   "outputs": [
    {
     "data": {
      "text/plain": [
       "<matplotlib.colorbar.Colorbar at 0x1ea076e0430>"
      ]
     },
     "execution_count": 261,
     "metadata": {},
     "output_type": "execute_result"
    },
    {
     "data": {
      "image/png": "[encoded data removed]",
      "text/plain": [
       "<Figure size 576x432 with 2 Axes>"
      ]
     },
     "metadata": {
      "needs_background": "light"
     },
     "output_type": "display_data"
    }
   ],
   "source": [
    "plt.figure(figsize=(8,6))\n",
    "\n",
    "plt.scatter(x_pca[:,0],x_pca[:,1], c = isc['churn'], alpha=0.8, cmap=plt.cm.get_cmap('Spectral',10))\n",
    "plt.xlabel('First Principal component')\n",
    "plt.ylabel('Second Principal component')\n",
    "plt.colorbar()"
   ]
  },
  {
   "cell_type": "markdown",
   "id": "c7eadc62",
   "metadata": {},
   "source": [
    "## Recommendations:\n",
    "• Given the insights gained, the company can take some steps to help\n",
    "reduce churn rate:\n",
    "1. Conduct interviews and surveys to identify promotions preferred by customers to avoid churn.\n",
    "2. Offer promotions to customers who do not have contracts (they are most likely to churn).\n",
    "3. Promote tv & movie subscription (they are less likely to churn).\n",
    "4. Reduce service failures to avoid customers from churning.\n",
    "5. Provide discounts to high subscription age customers."
   ]
  },
  {
   "cell_type": "markdown",
   "id": "c11a3bb9",
   "metadata": {},
   "source": [
    "# "
   ]
  }
 ],
 "metadata": {
  "kernelspec": {
   "display_name": "Python 3 (ipykernel)",
   "language": "python",
   "name": "python3"
  },
  "language_info": {
   "codemirror_mode": {
    "name": "ipython",
    "version": 3
   },
   "file_extension": ".py",
   "mimetype": "text/x-python",
   "name": "python",
   "nbconvert_exporter": "python",
   "pygments_lexer": "ipython3",
   "version": "3.9.7"
  }
 },
 "nbformat": 4,
 "nbformat_minor": 5
}
