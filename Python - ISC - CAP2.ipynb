{
 "cells": [
  {
   "cell_type": "markdown",
   "id": "2013032d",
   "metadata": {},
   "source": [
    "#           INTERNET SERVICE CHURN "
   ]
  },
  {
   "cell_type": "markdown",
   "id": "0b0cfd48",
   "metadata": {},
   "source": [
    "## OBJECTIVE:\n",
    "1. Identify the profile of customers that are likely to churn with available features.\n",
    "2. Build models that predict probability of whether customers will churn or not."
   ]
  },
  {
   "cell_type": "markdown",
   "id": "b3a42196",
   "metadata": {},
   "source": [
    "## Context of Analysis\n",
    "           \n",
    " There is a big competition between Internet providers. If a providers want to increase its revenue they needs more subscriber but keep existing customer is more important than having new ones. So, providers want to know which customer should cancel his service. If the provider cancel the service, that is called churn. \n",
    "\n",
    " All industries suffer from voluntary churn -- the loss of customers to some other company. The survival of any business is based on its ability to retain customers. This is particularly true for phone, cable TV, satellite TV and wireless companies. How do you reduce churn? There are many ways: better products, better delivery methods, lower prices, building satisfactory customer relationships, better marketing and, above all, successful customer communications. \n",
    " \n",
    " Wireless companies today measure voluntary churn by a monthly figure, such as 1.9 percent or 2.1 percent. This is the average number of customers who quit their service per month. Annual churn rates for telecommunications companies average between 10 percent and 67 percent.\n",
    " \n",
    " Industry retention surveys have shown that while price and product are important, most people leave any service because of dissatisfaction with the way they are treated. They would not be looking around if they were happy with their current provider, its service and employees. \n",
    " \n",
    " Churn reduction in the telecom industry is a serious problem, but there are many things that can be done to reduce it, and, with a customer database, many ways of measuring your success.\n"
   ]
  },
  {
   "cell_type": "markdown",
   "id": "805a8545",
   "metadata": {},
   "source": [
    "##  Introduction to data\n",
    "\n",
    "The dataset consist of the following features:\n",
    "1) is_tv_subscriber customer - has a tv subscription ?\n",
    "\n",
    "2) is_movie_package_subscriber?\n",
    "\n",
    "3) subscription_age - how many year has the customer use our service\n",
    "\n",
    "4) bill_avg - last 3 months bill avg\n",
    "\n",
    "5) reamining_contract - how many year remaining for customer contract. If null; customer didn't have a contract. the customer                           who has a contract time have to use their service until contract end.if they canceled their service                             before contract time end they pay a penalty fare.\n",
    "\n",
    "Two ways in which a customer could be using the services. One through a time-bound contract which costs less and another through a normal monthly subscription which obviously costs more. So, even if a person is not in a contract, he's still a user who's paying monthly fees.\n",
    "\n",
    "5) service_failure_count customer - call count to call center for service failure for last 3 months\n",
    "\n",
    "6) download_avg - last 3 months internet usage (GB)\n",
    "\n",
    "7) upload_avg last - 3 months upload avg (GB)\n",
    "\n",
    "8) download_over_limit - most of customer has a download limit. if they reach this limit they have to pay for this. this column                          contain \"limit over count\" for last 9 months\n",
    "\n",
    "9) churn - this is the target column. if 1 customer canceled his service\n",
    "\n",
    "The dataset is taken from https://www.kaggle.com/mehmetsabrikunt/internet-service-churn/metadata\n",
    "\n",
    "Consist of 72275 rows and 11 columns."
   ]
  },
  {
   "cell_type": "markdown",
   "id": "5dc2dd14",
   "metadata": {},
   "source": [
    "## Import Libraries"
   ]
  },
  {
   "cell_type": "code",
   "execution_count": 1,
   "id": "4bc74c77",
   "metadata": {},
   "outputs": [],
   "source": [
    "import numpy as np\n",
    "import sklearn as sk\n",
    "import pandas as pd\n",
    "from sklearn.model_selection import train_test_split\n",
    "from sklearn.linear_model import LogisticRegression\n",
    "from sklearn import metrics\n",
    "from sklearn.datasets import load_digits\n",
    "from sklearn.metrics import classification_report, confusion_matrix\n",
    "from sklearn.preprocessing import StandardScaler\n",
    "import seaborn as sn\n",
    "import matplotlib.pyplot as plt"
   ]
  },
  {
   "cell_type": "markdown",
   "id": "4c65a329",
   "metadata": {},
   "source": [
    "##  Import Dataset"
   ]
  },
  {
   "cell_type": "code",
   "execution_count": 2,
   "id": "77989ee9",
   "metadata": {},
   "outputs": [],
   "source": [
    "isc = pd.read_csv(\"internet_service_churn.csv\")"
   ]
  },
  {
   "cell_type": "markdown",
   "id": "74f2d096",
   "metadata": {},
   "source": [
    "## Data Cleaning"
   ]
  },
  {
   "cell_type": "code",
   "execution_count": 3,
   "id": "5fa009d5",
   "metadata": {
    "scrolled": true
   },
   "outputs": [
    {
     "data": {
      "text/html": [
       "<div>\n",
       "<style scoped>\n",
       "    .dataframe tbody tr th:only-of-type {\n",
       "        vertical-align: middle;\n",
       "    }\n",
       "\n",
       "    .dataframe tbody tr th {\n",
       "        vertical-align: top;\n",
       "    }\n",
       "\n",
       "    .dataframe thead th {\n",
       "        text-align: right;\n",
       "    }\n",
       "</style>\n",
       "<table border=\"1\" class=\"dataframe\">\n",
       "  <thead>\n",
       "    <tr style=\"text-align: right;\">\n",
       "      <th></th>\n",
       "      <th>id</th>\n",
       "      <th>is_tv_subscriber</th>\n",
       "      <th>is_movie_package_subscriber</th>\n",
       "      <th>subscription_age</th>\n",
       "      <th>bill_avg</th>\n",
       "      <th>reamining_contract</th>\n",
       "      <th>service_failure_count</th>\n",
       "      <th>download_avg</th>\n",
       "      <th>upload_avg</th>\n",
       "      <th>download_over_limit</th>\n",
       "      <th>churn</th>\n",
       "    </tr>\n",
       "  </thead>\n",
       "  <tbody>\n",
       "    <tr>\n",
       "      <th>count</th>\n",
       "      <td>7.227400e+04</td>\n",
       "      <td>72274.000000</td>\n",
       "      <td>72274.000000</td>\n",
       "      <td>72274.000000</td>\n",
       "      <td>72274.000000</td>\n",
       "      <td>50702.000000</td>\n",
       "      <td>72274.000000</td>\n",
       "      <td>71893.000000</td>\n",
       "      <td>71893.000000</td>\n",
       "      <td>72274.000000</td>\n",
       "      <td>72274.000000</td>\n",
       "    </tr>\n",
       "    <tr>\n",
       "      <th>mean</th>\n",
       "      <td>8.463182e+05</td>\n",
       "      <td>0.815259</td>\n",
       "      <td>0.334629</td>\n",
       "      <td>2.450051</td>\n",
       "      <td>18.942483</td>\n",
       "      <td>0.716039</td>\n",
       "      <td>0.274234</td>\n",
       "      <td>43.689911</td>\n",
       "      <td>4.192076</td>\n",
       "      <td>0.207613</td>\n",
       "      <td>0.554141</td>\n",
       "    </tr>\n",
       "    <tr>\n",
       "      <th>std</th>\n",
       "      <td>4.891022e+05</td>\n",
       "      <td>0.388090</td>\n",
       "      <td>0.471864</td>\n",
       "      <td>2.034990</td>\n",
       "      <td>13.215386</td>\n",
       "      <td>0.697102</td>\n",
       "      <td>0.816621</td>\n",
       "      <td>63.405963</td>\n",
       "      <td>9.818896</td>\n",
       "      <td>0.997123</td>\n",
       "      <td>0.497064</td>\n",
       "    </tr>\n",
       "    <tr>\n",
       "      <th>min</th>\n",
       "      <td>1.500000e+01</td>\n",
       "      <td>0.000000</td>\n",
       "      <td>0.000000</td>\n",
       "      <td>-0.020000</td>\n",
       "      <td>0.000000</td>\n",
       "      <td>0.000000</td>\n",
       "      <td>0.000000</td>\n",
       "      <td>0.000000</td>\n",
       "      <td>0.000000</td>\n",
       "      <td>0.000000</td>\n",
       "      <td>0.000000</td>\n",
       "    </tr>\n",
       "    <tr>\n",
       "      <th>25%</th>\n",
       "      <td>4.222165e+05</td>\n",
       "      <td>1.000000</td>\n",
       "      <td>0.000000</td>\n",
       "      <td>0.930000</td>\n",
       "      <td>13.000000</td>\n",
       "      <td>0.000000</td>\n",
       "      <td>0.000000</td>\n",
       "      <td>6.700000</td>\n",
       "      <td>0.500000</td>\n",
       "      <td>0.000000</td>\n",
       "      <td>0.000000</td>\n",
       "    </tr>\n",
       "    <tr>\n",
       "      <th>50%</th>\n",
       "      <td>8.477840e+05</td>\n",
       "      <td>1.000000</td>\n",
       "      <td>0.000000</td>\n",
       "      <td>1.980000</td>\n",
       "      <td>19.000000</td>\n",
       "      <td>0.570000</td>\n",
       "      <td>0.000000</td>\n",
       "      <td>27.800000</td>\n",
       "      <td>2.100000</td>\n",
       "      <td>0.000000</td>\n",
       "      <td>1.000000</td>\n",
       "    </tr>\n",
       "    <tr>\n",
       "      <th>75%</th>\n",
       "      <td>1.269562e+06</td>\n",
       "      <td>1.000000</td>\n",
       "      <td>1.000000</td>\n",
       "      <td>3.300000</td>\n",
       "      <td>22.000000</td>\n",
       "      <td>1.310000</td>\n",
       "      <td>0.000000</td>\n",
       "      <td>60.500000</td>\n",
       "      <td>4.800000</td>\n",
       "      <td>0.000000</td>\n",
       "      <td>1.000000</td>\n",
       "    </tr>\n",
       "    <tr>\n",
       "      <th>max</th>\n",
       "      <td>1.689744e+06</td>\n",
       "      <td>1.000000</td>\n",
       "      <td>1.000000</td>\n",
       "      <td>12.800000</td>\n",
       "      <td>406.000000</td>\n",
       "      <td>2.920000</td>\n",
       "      <td>19.000000</td>\n",
       "      <td>4415.200000</td>\n",
       "      <td>453.300000</td>\n",
       "      <td>7.000000</td>\n",
       "      <td>1.000000</td>\n",
       "    </tr>\n",
       "  </tbody>\n",
       "</table>\n",
       "</div>"
      ],
      "text/plain": [
       "                 id  is_tv_subscriber  is_movie_package_subscriber  \\\n",
       "count  7.227400e+04      72274.000000                 72274.000000   \n",
       "mean   8.463182e+05          0.815259                     0.334629   \n",
       "std    4.891022e+05          0.388090                     0.471864   \n",
       "min    1.500000e+01          0.000000                     0.000000   \n",
       "25%    4.222165e+05          1.000000                     0.000000   \n",
       "50%    8.477840e+05          1.000000                     0.000000   \n",
       "75%    1.269562e+06          1.000000                     1.000000   \n",
       "max    1.689744e+06          1.000000                     1.000000   \n",
       "\n",
       "       subscription_age      bill_avg  reamining_contract  \\\n",
       "count      72274.000000  72274.000000        50702.000000   \n",
       "mean           2.450051     18.942483            0.716039   \n",
       "std            2.034990     13.215386            0.697102   \n",
       "min           -0.020000      0.000000            0.000000   \n",
       "25%            0.930000     13.000000            0.000000   \n",
       "50%            1.980000     19.000000            0.570000   \n",
       "75%            3.300000     22.000000            1.310000   \n",
       "max           12.800000    406.000000            2.920000   \n",
       "\n",
       "       service_failure_count  download_avg    upload_avg  download_over_limit  \\\n",
       "count           72274.000000  71893.000000  71893.000000         72274.000000   \n",
       "mean                0.274234     43.689911      4.192076             0.207613   \n",
       "std                 0.816621     63.405963      9.818896             0.997123   \n",
       "min                 0.000000      0.000000      0.000000             0.000000   \n",
       "25%                 0.000000      6.700000      0.500000             0.000000   \n",
       "50%                 0.000000     27.800000      2.100000             0.000000   \n",
       "75%                 0.000000     60.500000      4.800000             0.000000   \n",
       "max                19.000000   4415.200000    453.300000             7.000000   \n",
       "\n",
       "              churn  \n",
       "count  72274.000000  \n",
       "mean       0.554141  \n",
       "std        0.497064  \n",
       "min        0.000000  \n",
       "25%        0.000000  \n",
       "50%        1.000000  \n",
       "75%        1.000000  \n",
       "max        1.000000  "
      ]
     },
     "execution_count": 3,
     "metadata": {},
     "output_type": "execute_result"
    }
   ],
   "source": [
    "isc.describe()"
   ]
  },
  {
   "cell_type": "code",
   "execution_count": 4,
   "id": "cd317eb4",
   "metadata": {},
   "outputs": [
    {
     "name": "stdout",
     "output_type": "stream",
     "text": [
      "<class 'pandas.core.frame.DataFrame'>\n",
      "RangeIndex: 72274 entries, 0 to 72273\n",
      "Data columns (total 11 columns):\n",
      " #   Column                       Non-Null Count  Dtype  \n",
      "---  ------                       --------------  -----  \n",
      " 0   id                           72274 non-null  int64  \n",
      " 1   is_tv_subscriber             72274 non-null  int64  \n",
      " 2   is_movie_package_subscriber  72274 non-null  int64  \n",
      " 3   subscription_age             72274 non-null  float64\n",
      " 4   bill_avg                     72274 non-null  int64  \n",
      " 5   reamining_contract           50702 non-null  float64\n",
      " 6   service_failure_count        72274 non-null  int64  \n",
      " 7   download_avg                 71893 non-null  float64\n",
      " 8   upload_avg                   71893 non-null  float64\n",
      " 9   download_over_limit          72274 non-null  int64  \n",
      " 10  churn                        72274 non-null  int64  \n",
      "dtypes: float64(4), int64(7)\n",
      "memory usage: 6.1 MB\n"
     ]
    }
   ],
   "source": [
    "isc.info()"
   ]
  },
  {
   "cell_type": "code",
   "execution_count": 5,
   "id": "0e77cf40",
   "metadata": {
    "scrolled": false
   },
   "outputs": [
    {
     "data": {
      "text/html": [
       "<div>\n",
       "<style scoped>\n",
       "    .dataframe tbody tr th:only-of-type {\n",
       "        vertical-align: middle;\n",
       "    }\n",
       "\n",
       "    .dataframe tbody tr th {\n",
       "        vertical-align: top;\n",
       "    }\n",
       "\n",
       "    .dataframe thead th {\n",
       "        text-align: right;\n",
       "    }\n",
       "</style>\n",
       "<table border=\"1\" class=\"dataframe\">\n",
       "  <thead>\n",
       "    <tr style=\"text-align: right;\">\n",
       "      <th></th>\n",
       "      <th>id</th>\n",
       "      <th>is_tv_subscriber</th>\n",
       "      <th>is_movie_package_subscriber</th>\n",
       "      <th>subscription_age</th>\n",
       "      <th>bill_avg</th>\n",
       "      <th>reamining_contract</th>\n",
       "      <th>service_failure_count</th>\n",
       "      <th>download_avg</th>\n",
       "      <th>upload_avg</th>\n",
       "      <th>download_over_limit</th>\n",
       "      <th>churn</th>\n",
       "    </tr>\n",
       "  </thead>\n",
       "  <tbody>\n",
       "    <tr>\n",
       "      <th>0</th>\n",
       "      <td>15</td>\n",
       "      <td>1</td>\n",
       "      <td>0</td>\n",
       "      <td>11.95</td>\n",
       "      <td>25</td>\n",
       "      <td>0.14</td>\n",
       "      <td>0</td>\n",
       "      <td>8.4</td>\n",
       "      <td>2.3</td>\n",
       "      <td>0</td>\n",
       "      <td>0</td>\n",
       "    </tr>\n",
       "    <tr>\n",
       "      <th>1</th>\n",
       "      <td>18</td>\n",
       "      <td>0</td>\n",
       "      <td>0</td>\n",
       "      <td>8.22</td>\n",
       "      <td>0</td>\n",
       "      <td>NaN</td>\n",
       "      <td>0</td>\n",
       "      <td>0.0</td>\n",
       "      <td>0.0</td>\n",
       "      <td>0</td>\n",
       "      <td>1</td>\n",
       "    </tr>\n",
       "    <tr>\n",
       "      <th>2</th>\n",
       "      <td>23</td>\n",
       "      <td>1</td>\n",
       "      <td>0</td>\n",
       "      <td>8.91</td>\n",
       "      <td>16</td>\n",
       "      <td>0.00</td>\n",
       "      <td>0</td>\n",
       "      <td>13.7</td>\n",
       "      <td>0.9</td>\n",
       "      <td>0</td>\n",
       "      <td>1</td>\n",
       "    </tr>\n",
       "    <tr>\n",
       "      <th>3</th>\n",
       "      <td>27</td>\n",
       "      <td>0</td>\n",
       "      <td>0</td>\n",
       "      <td>6.87</td>\n",
       "      <td>21</td>\n",
       "      <td>NaN</td>\n",
       "      <td>1</td>\n",
       "      <td>0.0</td>\n",
       "      <td>0.0</td>\n",
       "      <td>0</td>\n",
       "      <td>1</td>\n",
       "    </tr>\n",
       "    <tr>\n",
       "      <th>4</th>\n",
       "      <td>34</td>\n",
       "      <td>0</td>\n",
       "      <td>0</td>\n",
       "      <td>6.39</td>\n",
       "      <td>0</td>\n",
       "      <td>NaN</td>\n",
       "      <td>0</td>\n",
       "      <td>0.0</td>\n",
       "      <td>0.0</td>\n",
       "      <td>0</td>\n",
       "      <td>1</td>\n",
       "    </tr>\n",
       "  </tbody>\n",
       "</table>\n",
       "</div>"
      ],
      "text/plain": [
       "   id  is_tv_subscriber  is_movie_package_subscriber  subscription_age  \\\n",
       "0  15                 1                            0             11.95   \n",
       "1  18                 0                            0              8.22   \n",
       "2  23                 1                            0              8.91   \n",
       "3  27                 0                            0              6.87   \n",
       "4  34                 0                            0              6.39   \n",
       "\n",
       "   bill_avg  reamining_contract  service_failure_count  download_avg  \\\n",
       "0        25                0.14                      0           8.4   \n",
       "1         0                 NaN                      0           0.0   \n",
       "2        16                0.00                      0          13.7   \n",
       "3        21                 NaN                      1           0.0   \n",
       "4         0                 NaN                      0           0.0   \n",
       "\n",
       "   upload_avg  download_over_limit  churn  \n",
       "0         2.3                    0      0  \n",
       "1         0.0                    0      1  \n",
       "2         0.9                    0      1  \n",
       "3         0.0                    0      1  \n",
       "4         0.0                    0      1  "
      ]
     },
     "execution_count": 5,
     "metadata": {},
     "output_type": "execute_result"
    }
   ],
   "source": [
    "isc.head(5)"
   ]
  },
  {
   "cell_type": "code",
   "execution_count": 6,
   "id": "68a944c6",
   "metadata": {},
   "outputs": [
    {
     "data": {
      "text/plain": [
       "id                                 0\n",
       "is_tv_subscriber                   0\n",
       "is_movie_package_subscriber        0\n",
       "subscription_age                   0\n",
       "bill_avg                           0\n",
       "reamining_contract             21572\n",
       "service_failure_count              0\n",
       "download_avg                     381\n",
       "upload_avg                       381\n",
       "download_over_limit                0\n",
       "churn                              0\n",
       "dtype: int64"
      ]
     },
     "execution_count": 6,
     "metadata": {},
     "output_type": "execute_result"
    }
   ],
   "source": [
    "isc.isna().sum()"
   ]
  },
  {
   "cell_type": "markdown",
   "id": "2515ee7a",
   "metadata": {},
   "source": [
    "##### Null Values - The remaining_contract has blank values of 21,572 which means the customers never opted for contract. So, we can fill the blank values with 0. Also, create a new column called is_contract which shows whether the customer opted for contract or not. download_avg & upload_avg has 381 blank values which can be deleted for better results."
   ]
  },
  {
   "cell_type": "code",
   "execution_count": 7,
   "id": "2b8b5ea3",
   "metadata": {},
   "outputs": [],
   "source": [
    "test_cols = isc.columns.tolist()\n",
    "test_cols.insert(5, 'is_contract')\n",
    "\n",
    "# Creating is_contract column\n",
    "isc['is_contract'] = isc['reamining_contract'].apply(lambda x: 0 if pd.isna(x) else 1)\n",
    "# Imputing null values with 0\n",
    "isc['reamining_contract'].replace(np.nan, 0, inplace=True)\n",
    "# Rearranging columns\n",
    "test_prepared = isc[test_cols]\n",
    "column_names = ['id','is_tv_subscriber','is_movie_package_subscriber','subscription_age','bill_avg','reamining_contract',\n",
    "                'is_contract','service_failure_count','download_avg','upload_avg','download_over_limit','churn']\n",
    "\n",
    "isc = isc.reindex(columns=column_names)"
   ]
  },
  {
   "cell_type": "code",
   "execution_count": 8,
   "id": "50fcf7ed",
   "metadata": {},
   "outputs": [
    {
     "data": {
      "text/html": [
       "<div>\n",
       "<style scoped>\n",
       "    .dataframe tbody tr th:only-of-type {\n",
       "        vertical-align: middle;\n",
       "    }\n",
       "\n",
       "    .dataframe tbody tr th {\n",
       "        vertical-align: top;\n",
       "    }\n",
       "\n",
       "    .dataframe thead th {\n",
       "        text-align: right;\n",
       "    }\n",
       "</style>\n",
       "<table border=\"1\" class=\"dataframe\">\n",
       "  <thead>\n",
       "    <tr style=\"text-align: right;\">\n",
       "      <th></th>\n",
       "      <th>id</th>\n",
       "      <th>is_tv_subscriber</th>\n",
       "      <th>is_movie_package_subscriber</th>\n",
       "      <th>subscription_age</th>\n",
       "      <th>bill_avg</th>\n",
       "      <th>reamining_contract</th>\n",
       "      <th>is_contract</th>\n",
       "      <th>service_failure_count</th>\n",
       "      <th>download_avg</th>\n",
       "      <th>upload_avg</th>\n",
       "      <th>download_over_limit</th>\n",
       "      <th>churn</th>\n",
       "    </tr>\n",
       "  </thead>\n",
       "  <tbody>\n",
       "    <tr>\n",
       "      <th>0</th>\n",
       "      <td>15</td>\n",
       "      <td>1</td>\n",
       "      <td>0</td>\n",
       "      <td>11.95</td>\n",
       "      <td>25</td>\n",
       "      <td>0.14</td>\n",
       "      <td>1</td>\n",
       "      <td>0</td>\n",
       "      <td>8.4</td>\n",
       "      <td>2.3</td>\n",
       "      <td>0</td>\n",
       "      <td>0</td>\n",
       "    </tr>\n",
       "    <tr>\n",
       "      <th>1</th>\n",
       "      <td>18</td>\n",
       "      <td>0</td>\n",
       "      <td>0</td>\n",
       "      <td>8.22</td>\n",
       "      <td>0</td>\n",
       "      <td>0.00</td>\n",
       "      <td>0</td>\n",
       "      <td>0</td>\n",
       "      <td>0.0</td>\n",
       "      <td>0.0</td>\n",
       "      <td>0</td>\n",
       "      <td>1</td>\n",
       "    </tr>\n",
       "    <tr>\n",
       "      <th>2</th>\n",
       "      <td>23</td>\n",
       "      <td>1</td>\n",
       "      <td>0</td>\n",
       "      <td>8.91</td>\n",
       "      <td>16</td>\n",
       "      <td>0.00</td>\n",
       "      <td>1</td>\n",
       "      <td>0</td>\n",
       "      <td>13.7</td>\n",
       "      <td>0.9</td>\n",
       "      <td>0</td>\n",
       "      <td>1</td>\n",
       "    </tr>\n",
       "    <tr>\n",
       "      <th>3</th>\n",
       "      <td>27</td>\n",
       "      <td>0</td>\n",
       "      <td>0</td>\n",
       "      <td>6.87</td>\n",
       "      <td>21</td>\n",
       "      <td>0.00</td>\n",
       "      <td>0</td>\n",
       "      <td>1</td>\n",
       "      <td>0.0</td>\n",
       "      <td>0.0</td>\n",
       "      <td>0</td>\n",
       "      <td>1</td>\n",
       "    </tr>\n",
       "    <tr>\n",
       "      <th>4</th>\n",
       "      <td>34</td>\n",
       "      <td>0</td>\n",
       "      <td>0</td>\n",
       "      <td>6.39</td>\n",
       "      <td>0</td>\n",
       "      <td>0.00</td>\n",
       "      <td>0</td>\n",
       "      <td>0</td>\n",
       "      <td>0.0</td>\n",
       "      <td>0.0</td>\n",
       "      <td>0</td>\n",
       "      <td>1</td>\n",
       "    </tr>\n",
       "  </tbody>\n",
       "</table>\n",
       "</div>"
      ],
      "text/plain": [
       "   id  is_tv_subscriber  is_movie_package_subscriber  subscription_age  \\\n",
       "0  15                 1                            0             11.95   \n",
       "1  18                 0                            0              8.22   \n",
       "2  23                 1                            0              8.91   \n",
       "3  27                 0                            0              6.87   \n",
       "4  34                 0                            0              6.39   \n",
       "\n",
       "   bill_avg  reamining_contract  is_contract  service_failure_count  \\\n",
       "0        25                0.14            1                      0   \n",
       "1         0                0.00            0                      0   \n",
       "2        16                0.00            1                      0   \n",
       "3        21                0.00            0                      1   \n",
       "4         0                0.00            0                      0   \n",
       "\n",
       "   download_avg  upload_avg  download_over_limit  churn  \n",
       "0           8.4         2.3                    0      0  \n",
       "1           0.0         0.0                    0      1  \n",
       "2          13.7         0.9                    0      1  \n",
       "3           0.0         0.0                    0      1  \n",
       "4           0.0         0.0                    0      1  "
      ]
     },
     "execution_count": 8,
     "metadata": {},
     "output_type": "execute_result"
    }
   ],
   "source": [
    "isc.head()"
   ]
  },
  {
   "cell_type": "code",
   "execution_count": 9,
   "id": "0cc637a9",
   "metadata": {},
   "outputs": [],
   "source": [
    "isc['download_avg'].replace('', np.nan, inplace=True)\n",
    "isc['upload_avg'].replace('',np.nan, inplace=True)\n",
    "isc.dropna(subset=['download_avg'], inplace=True)\n",
    "isc.dropna(subset=['upload_avg'], inplace=True)"
   ]
  },
  {
   "cell_type": "code",
   "execution_count": 10,
   "id": "82a26a41",
   "metadata": {},
   "outputs": [
    {
     "data": {
      "text/plain": [
       "id                             0\n",
       "is_tv_subscriber               0\n",
       "is_movie_package_subscriber    0\n",
       "subscription_age               0\n",
       "bill_avg                       0\n",
       "reamining_contract             0\n",
       "is_contract                    0\n",
       "service_failure_count          0\n",
       "download_avg                   0\n",
       "upload_avg                     0\n",
       "download_over_limit            0\n",
       "churn                          0\n",
       "dtype: int64"
      ]
     },
     "execution_count": 10,
     "metadata": {},
     "output_type": "execute_result"
    }
   ],
   "source": [
    "isc.isna().sum()"
   ]
  },
  {
   "cell_type": "code",
   "execution_count": 11,
   "id": "a5355db2",
   "metadata": {},
   "outputs": [
    {
     "name": "stdout",
     "output_type": "stream",
     "text": [
      "<class 'pandas.core.frame.DataFrame'>\n",
      "Int64Index: 71893 entries, 0 to 72273\n",
      "Data columns (total 12 columns):\n",
      " #   Column                       Non-Null Count  Dtype  \n",
      "---  ------                       --------------  -----  \n",
      " 0   id                           71893 non-null  int64  \n",
      " 1   is_tv_subscriber             71893 non-null  int64  \n",
      " 2   is_movie_package_subscriber  71893 non-null  int64  \n",
      " 3   subscription_age             71893 non-null  float64\n",
      " 4   bill_avg                     71893 non-null  int64  \n",
      " 5   reamining_contract           71893 non-null  float64\n",
      " 6   is_contract                  71893 non-null  int64  \n",
      " 7   service_failure_count        71893 non-null  int64  \n",
      " 8   download_avg                 71893 non-null  float64\n",
      " 9   upload_avg                   71893 non-null  float64\n",
      " 10  download_over_limit          71893 non-null  int64  \n",
      " 11  churn                        71893 non-null  int64  \n",
      "dtypes: float64(4), int64(8)\n",
      "memory usage: 7.1 MB\n"
     ]
    }
   ],
   "source": [
    "isc.info()"
   ]
  },
  {
   "cell_type": "markdown",
   "id": "c910cb4f",
   "metadata": {},
   "source": [
    "###### Now, the data in all of the columns has non-null values & is ready for data exploration.\n",
    "###### Dataset now consist of 71893 rows & 12 columns."
   ]
  },
  {
   "cell_type": "markdown",
   "id": "4977303d",
   "metadata": {},
   "source": [
    "## Exploratory Data Analysis"
   ]
  },
  {
   "cell_type": "markdown",
   "id": "79df7ad4",
   "metadata": {},
   "source": [
    "### Churn Rate"
   ]
  },
  {
   "cell_type": "code",
   "execution_count": 12,
   "id": "e4645d72",
   "metadata": {},
   "outputs": [
    {
     "data": {
      "text/plain": [
       "<AxesSubplot:title={'center':\"Count of customers who has churned & didn't churn\"}, xlabel='churn', ylabel='count'>"
      ]
     },
     "execution_count": 12,
     "metadata": {},
     "output_type": "execute_result"
    },
    {
     "data": {
      "image/png": "[encoded data removed]",
      "text/plain": [
       "<Figure size 432x288 with 1 Axes>"
      ]
     },
     "metadata": {
      "needs_background": "light"
     },
     "output_type": "display_data"
    }
   ],
   "source": [
    "plt.title(\"Count of customers who has churned & didn't churn\")\n",
    "sn.countplot(x = 'churn' ,  data = isc)"
   ]
  },
  {
   "cell_type": "code",
   "execution_count": 13,
   "id": "15ef5cec",
   "metadata": {},
   "outputs": [
    {
     "data": {
      "text/plain": [
       "1    40050\n",
       "0    31843\n",
       "Name: churn, dtype: int64"
      ]
     },
     "execution_count": 13,
     "metadata": {},
     "output_type": "execute_result"
    }
   ],
   "source": [
    "isc['churn'].value_counts()"
   ]
  },
  {
   "cell_type": "markdown",
   "id": "7e3ebe63",
   "metadata": {},
   "source": [
    "###### The count of people who have already churned is more. There is imbalance in the data with 40050 who has churned & 31843 who has not churned."
   ]
  },
  {
   "cell_type": "code",
   "execution_count": 14,
   "id": "c88f889c",
   "metadata": {},
   "outputs": [
    {
     "data": {
      "text/plain": [
       "is_tv_subscriber               58609\n",
       "is_movie_package_subscriber    24017\n",
       "dtype: int64"
      ]
     },
     "execution_count": 14,
     "metadata": {},
     "output_type": "execute_result"
    }
   ],
   "source": [
    "sub = isc[[\"is_tv_subscriber\",\"is_movie_package_subscriber\"]].sum()\n",
    "sub"
   ]
  },
  {
   "cell_type": "code",
   "execution_count": 15,
   "id": "6330d774",
   "metadata": {},
   "outputs": [
    {
     "data": {
      "text/plain": [
       "is_tv_subscriber  is_movie_package_subscriber\n",
       "0                 0                              13282\n",
       "                  1                                  2\n",
       "1                 0                              34594\n",
       "                  1                              24015\n",
       "Name: is_movie_package_subscriber, dtype: int64"
      ]
     },
     "execution_count": 15,
     "metadata": {},
     "output_type": "execute_result"
    }
   ],
   "source": [
    "isc.groupby('is_tv_subscriber')['is_movie_package_subscriber'].value_counts()"
   ]
  },
  {
   "cell_type": "markdown",
   "id": "5d733c02",
   "metadata": {},
   "source": [
    "###### Customers with tv subscription are more compared to movie package subscribers. \n",
    "###### We can see only 2 customers opted for movie only package otherwise people who opted for movie package also has tv subscription. \n",
    "###### Customers who didn't opted for both tv & movie subscription include 13282. Customers who opted for both tv & movie include 24015."
   ]
  },
  {
   "cell_type": "markdown",
   "id": "04c9961e",
   "metadata": {},
   "source": [
    "## Is Tv subscribers causing churn?"
   ]
  },
  {
   "cell_type": "code",
   "execution_count": 16,
   "id": "94d58e11",
   "metadata": {},
   "outputs": [
    {
     "data": {
      "text/plain": [
       "[Text(0.5, 0, 'Tv subscriber or not')]"
      ]
     },
     "execution_count": 16,
     "metadata": {},
     "output_type": "execute_result"
    },
    {
     "data": {
      "image/png": "[encoded data removed]",
      "text/plain": [
       "<Figure size 432x288 with 1 Axes>"
      ]
     },
     "metadata": {
      "needs_background": "light"
     },
     "output_type": "display_data"
    }
   ],
   "source": [
    "plt.title(\"Count of TV subscribers who churned & didn't churn\")\n",
    "ax = sn.countplot(x = 'is_tv_subscriber' ,  data = isc)\n",
    "ax.set(xlabel='Tv subscriber or not')"
   ]
  },
  {
   "cell_type": "markdown",
   "id": "c013df17",
   "metadata": {},
   "source": [
    "###### The customers who has subscribed to TV are the ones who has churned more. So, is_tv_subscriber is a important factor in prediction."
   ]
  },
  {
   "cell_type": "markdown",
   "id": "b349a6b1",
   "metadata": {},
   "source": [
    "## Is movie subscribers causing churn?"
   ]
  },
  {
   "cell_type": "code",
   "execution_count": 17,
   "id": "b3786453",
   "metadata": {},
   "outputs": [
    {
     "data": {
      "text/plain": [
       "[Text(0.5, 0, 'Movie subscriber or not')]"
      ]
     },
     "execution_count": 17,
     "metadata": {},
     "output_type": "execute_result"
    },
    {
     "data": {
      "image/png": "[encoded data removed]",
      "text/plain": [
       "<Figure size 432x288 with 1 Axes>"
      ]
     },
     "metadata": {
      "needs_background": "light"
     },
     "output_type": "display_data"
    }
   ],
   "source": [
    "plt.title(\"Count of movie subscribers who churned & didn't churn\")\n",
    "ax = sn.countplot(x = 'is_movie_package_subscriber' ,  data = isc)\n",
    "ax.set(xlabel='Movie subscriber or not')"
   ]
  },
  {
   "cell_type": "markdown",
   "id": "91899bbd",
   "metadata": {},
   "source": [
    "###### Movie package subscribers has lower churn rate & also customers who has opted for movie package are low. So, is_movie_package_subscriber cannot be considered an important factor in prediction."
   ]
  },
  {
   "cell_type": "code",
   "execution_count": 18,
   "id": "617d2c2e",
   "metadata": {},
   "outputs": [
    {
     "data": {
      "text/html": [
       "<div>\n",
       "<style scoped>\n",
       "    .dataframe tbody tr th:only-of-type {\n",
       "        vertical-align: middle;\n",
       "    }\n",
       "\n",
       "    .dataframe tbody tr th {\n",
       "        vertical-align: top;\n",
       "    }\n",
       "\n",
       "    .dataframe thead tr th {\n",
       "        text-align: left;\n",
       "    }\n",
       "\n",
       "    .dataframe thead tr:last-of-type th {\n",
       "        text-align: right;\n",
       "    }\n",
       "</style>\n",
       "<table border=\"1\" class=\"dataframe\">\n",
       "  <thead>\n",
       "    <tr>\n",
       "      <th></th>\n",
       "      <th></th>\n",
       "      <th>churn</th>\n",
       "    </tr>\n",
       "    <tr>\n",
       "      <th></th>\n",
       "      <th></th>\n",
       "      <th>sum</th>\n",
       "    </tr>\n",
       "    <tr>\n",
       "      <th>is_tv_subscriber</th>\n",
       "      <th>is_movie_package_subscriber</th>\n",
       "      <th></th>\n",
       "    </tr>\n",
       "  </thead>\n",
       "  <tbody>\n",
       "    <tr>\n",
       "      <th rowspan=\"2\" valign=\"top\">0</th>\n",
       "      <th>0</th>\n",
       "      <td>11964</td>\n",
       "    </tr>\n",
       "    <tr>\n",
       "      <th>1</th>\n",
       "      <td>2</td>\n",
       "    </tr>\n",
       "    <tr>\n",
       "      <th rowspan=\"2\" valign=\"top\">1</th>\n",
       "      <th>0</th>\n",
       "      <td>19891</td>\n",
       "    </tr>\n",
       "    <tr>\n",
       "      <th>1</th>\n",
       "      <td>8193</td>\n",
       "    </tr>\n",
       "  </tbody>\n",
       "</table>\n",
       "</div>"
      ],
      "text/plain": [
       "                                              churn\n",
       "                                                sum\n",
       "is_tv_subscriber is_movie_package_subscriber       \n",
       "0                0                            11964\n",
       "                 1                                2\n",
       "1                0                            19891\n",
       "                 1                             8193"
      ]
     },
     "execution_count": 18,
     "metadata": {},
     "output_type": "execute_result"
    }
   ],
   "source": [
    "isc.groupby(['is_tv_subscriber', 'is_movie_package_subscriber'])[['churn']].agg(['sum'])"
   ]
  },
  {
   "cell_type": "markdown",
   "id": "773be111",
   "metadata": {},
   "source": [
    "###### We can see that customers who have opted for both tv & movie subscription have less churn rate. \n",
    "###### Customers who do not have subscriptions & also customers with tv subscription only has higher churn rate."
   ]
  },
  {
   "cell_type": "markdown",
   "id": "ab03575d",
   "metadata": {},
   "source": [
    "## Do customers churn less with higher subscription years?"
   ]
  },
  {
   "cell_type": "code",
   "execution_count": 19,
   "id": "a8fa682b",
   "metadata": {},
   "outputs": [
    {
     "data": {
      "image/png": "[encoded data removed]",
      "text/plain": [
       "<Figure size 432x288 with 1 Axes>"
      ]
     },
     "metadata": {
      "needs_background": "light"
     },
     "output_type": "display_data"
    }
   ],
   "source": [
    "sn.boxplot(x=\"churn\",y=\"subscription_age\",data=isc)\n",
    "plt.show() "
   ]
  },
  {
   "cell_type": "markdown",
   "id": "44d47a9b",
   "metadata": {},
   "source": [
    "###### We can see that the most of the customers who has not churned has subscription age lies between 1 to 4 years & there are some higher subscription age who has not churned. \n",
    "###### But for the customers who has churned subscription age lies between 1.5 to 3 years & there are exceptions with customers having high subscription age causing churn. Mostly, customers try to leave the service before 3 years."
   ]
  },
  {
   "cell_type": "code",
   "execution_count": 20,
   "id": "bcb8bfa5",
   "metadata": {},
   "outputs": [
    {
     "data": {
      "image/png": "[encoded data removed]",
      "text/plain": [
       "<Figure size 720x432 with 1 Axes>"
      ]
     },
     "metadata": {
      "needs_background": "light"
     },
     "output_type": "display_data"
    }
   ],
   "source": [
    "plt.figure(figsize = (10,6))\n",
    "sn.histplot(data = isc, x= 'subscription_age', kde = True, hue = 'churn')\n",
    "plt.title('Subscription Age vs Count')\n",
    "plt.show()"
   ]
  },
  {
   "cell_type": "markdown",
   "id": "782e7c06",
   "metadata": {},
   "source": [
    "###### Subscription age mostly lies in 0 to 4 years & customers with high subscription age are less. The churn rate is also higher in the 0 to 4 years subscription age. So, subscription_age is a important factor in churn prediction. "
   ]
  },
  {
   "cell_type": "markdown",
   "id": "2c01222e",
   "metadata": {},
   "source": [
    "## Is the customers bill average caused effect on churn rate? "
   ]
  },
  {
   "cell_type": "code",
   "execution_count": 21,
   "id": "ed83b428",
   "metadata": {},
   "outputs": [
    {
     "data": {
      "image/png": "[encoded data removed]",
      "text/plain": [
       "<Figure size 432x288 with 1 Axes>"
      ]
     },
     "metadata": {
      "needs_background": "light"
     },
     "output_type": "display_data"
    }
   ],
   "source": [
    "sn.boxplot(x=\"churn\",y=\"bill_avg\",data=isc)\n",
    "plt.show() "
   ]
  },
  {
   "cell_type": "markdown",
   "id": "63312d3c",
   "metadata": {},
   "source": [
    "###### Bill average most of it's values lies in between 10 to 40 dollars for customers who churn and who do not churn. There are exceptions with higher bill average customers being non - churner & also higher bill average customers being churners."
   ]
  },
  {
   "cell_type": "code",
   "execution_count": 22,
   "id": "adb80589",
   "metadata": {},
   "outputs": [
    {
     "data": {
      "image/png": "[encoded data removed]",
      "text/plain": [
       "<Figure size 432x288 with 1 Axes>"
      ]
     },
     "metadata": {
      "needs_background": "light"
     },
     "output_type": "display_data"
    },
    {
     "data": {
      "image/png": "[encoded data removed]",
      "text/plain": [
       "<Figure size 432x288 with 1 Axes>"
      ]
     },
     "metadata": {
      "needs_background": "light"
     },
     "output_type": "display_data"
    }
   ],
   "source": [
    "subscribers=[\"is_tv_subscriber\",\"is_movie_package_subscriber\"]\n",
    "for i in subscribers:\n",
    "    sn.barplot(x=\"churn\",y=\"bill_avg\",data=isc,hue=i)\n",
    "    plt.title(\"avg bill of \"+ i)\n",
    "    plt.show()"
   ]
  },
  {
   "cell_type": "code",
   "execution_count": 23,
   "id": "da1386de",
   "metadata": {},
   "outputs": [
    {
     "data": {
      "text/html": [
       "<div>\n",
       "<style scoped>\n",
       "    .dataframe tbody tr th:only-of-type {\n",
       "        vertical-align: middle;\n",
       "    }\n",
       "\n",
       "    .dataframe tbody tr th {\n",
       "        vertical-align: top;\n",
       "    }\n",
       "\n",
       "    .dataframe thead tr th {\n",
       "        text-align: left;\n",
       "    }\n",
       "\n",
       "    .dataframe thead tr:last-of-type th {\n",
       "        text-align: right;\n",
       "    }\n",
       "</style>\n",
       "<table border=\"1\" class=\"dataframe\">\n",
       "  <thead>\n",
       "    <tr>\n",
       "      <th></th>\n",
       "      <th></th>\n",
       "      <th>bill_avg</th>\n",
       "      <th>churn</th>\n",
       "    </tr>\n",
       "    <tr>\n",
       "      <th></th>\n",
       "      <th></th>\n",
       "      <th>sum</th>\n",
       "      <th>sum</th>\n",
       "    </tr>\n",
       "    <tr>\n",
       "      <th>is_tv_subscriber</th>\n",
       "      <th>is_movie_package_subscriber</th>\n",
       "      <th></th>\n",
       "      <th></th>\n",
       "    </tr>\n",
       "  </thead>\n",
       "  <tbody>\n",
       "    <tr>\n",
       "      <th rowspan=\"2\" valign=\"top\">0</th>\n",
       "      <th>0</th>\n",
       "      <td>280632</td>\n",
       "      <td>11964</td>\n",
       "    </tr>\n",
       "    <tr>\n",
       "      <th>1</th>\n",
       "      <td>28</td>\n",
       "      <td>2</td>\n",
       "    </tr>\n",
       "    <tr>\n",
       "      <th rowspan=\"2\" valign=\"top\">1</th>\n",
       "      <th>0</th>\n",
       "      <td>639313</td>\n",
       "      <td>19891</td>\n",
       "    </tr>\n",
       "    <tr>\n",
       "      <th>1</th>\n",
       "      <td>447205</td>\n",
       "      <td>8193</td>\n",
       "    </tr>\n",
       "  </tbody>\n",
       "</table>\n",
       "</div>"
      ],
      "text/plain": [
       "                                             bill_avg  churn\n",
       "                                                  sum    sum\n",
       "is_tv_subscriber is_movie_package_subscriber                \n",
       "0                0                             280632  11964\n",
       "                 1                                 28      2\n",
       "1                0                             639313  19891\n",
       "                 1                             447205   8193"
      ]
     },
     "execution_count": 23,
     "metadata": {},
     "output_type": "execute_result"
    }
   ],
   "source": [
    "isc.groupby(['is_tv_subscriber', 'is_movie_package_subscriber'])[['bill_avg','churn']].agg(['sum'])"
   ]
  },
  {
   "cell_type": "markdown",
   "id": "8059ae4e",
   "metadata": {},
   "source": [
    "###### The customers who didn't have any subscription has lower average bill but still had a good amount of churn.\n",
    "###### The cusomers who only has tv subscription has higher average bill with highest churn rate.\n",
    "###### Customers with both subscription has the lowest churn rate.\n"
   ]
  },
  {
   "cell_type": "markdown",
   "id": "aef45597",
   "metadata": {},
   "source": [
    "###### Thus, Bill average overall can be considered a factor which can cause the customer to churn"
   ]
  },
  {
   "cell_type": "markdown",
   "id": "67c35f34",
   "metadata": {},
   "source": [
    "## Is remaining contract effects churn rate?"
   ]
  },
  {
   "cell_type": "code",
   "execution_count": 24,
   "id": "277b9497",
   "metadata": {},
   "outputs": [
    {
     "data": {
      "image/png": "[encoded data removed]",
      "text/plain": [
       "<Figure size 432x288 with 1 Axes>"
      ]
     },
     "metadata": {
      "needs_background": "light"
     },
     "output_type": "display_data"
    }
   ],
   "source": [
    "sn.boxplot(x=\"churn\",y=\"reamining_contract\",data=isc)\n",
    "plt.show() "
   ]
  },
  {
   "cell_type": "markdown",
   "id": "e1b50910",
   "metadata": {},
   "source": [
    "###### We find that customers who have no contract are the ones who churn because if they cancel while in contract they have to pay penalty. There are exceptions with customers who had contract but still churned.\n",
    "###### Thus, remaining contract is a important factor in churn prediction."
   ]
  },
  {
   "cell_type": "markdown",
   "id": "c5981c9e",
   "metadata": {},
   "source": [
    "## Does contract selection cause churn? "
   ]
  },
  {
   "cell_type": "code",
   "execution_count": 25,
   "id": "4a37b32a",
   "metadata": {},
   "outputs": [
    {
     "data": {
      "image/png": "[encoded data removed]",
      "text/plain": [
       "<Figure size 432x288 with 1 Axes>"
      ]
     },
     "metadata": {
      "needs_background": "light"
     },
     "output_type": "display_data"
    }
   ],
   "source": [
    "sn.countplot(x=\"is_contract\",data=isc)\n",
    "plt.show() "
   ]
  },
  {
   "cell_type": "code",
   "execution_count": 26,
   "id": "36a7ac51",
   "metadata": {},
   "outputs": [
    {
     "data": {
      "text/html": [
       "<div>\n",
       "<style scoped>\n",
       "    .dataframe tbody tr th:only-of-type {\n",
       "        vertical-align: middle;\n",
       "    }\n",
       "\n",
       "    .dataframe tbody tr th {\n",
       "        vertical-align: top;\n",
       "    }\n",
       "\n",
       "    .dataframe thead tr th {\n",
       "        text-align: left;\n",
       "    }\n",
       "\n",
       "    .dataframe thead tr:last-of-type th {\n",
       "        text-align: right;\n",
       "    }\n",
       "</style>\n",
       "<table border=\"1\" class=\"dataframe\">\n",
       "  <thead>\n",
       "    <tr>\n",
       "      <th></th>\n",
       "      <th>churn</th>\n",
       "    </tr>\n",
       "    <tr>\n",
       "      <th></th>\n",
       "      <th>count</th>\n",
       "    </tr>\n",
       "    <tr>\n",
       "      <th>is_contract</th>\n",
       "      <th></th>\n",
       "    </tr>\n",
       "  </thead>\n",
       "  <tbody>\n",
       "    <tr>\n",
       "      <th>0</th>\n",
       "      <td>21518</td>\n",
       "    </tr>\n",
       "    <tr>\n",
       "      <th>1</th>\n",
       "      <td>50375</td>\n",
       "    </tr>\n",
       "  </tbody>\n",
       "</table>\n",
       "</div>"
      ],
      "text/plain": [
       "             churn\n",
       "             count\n",
       "is_contract       \n",
       "0            21518\n",
       "1            50375"
      ]
     },
     "execution_count": 26,
     "metadata": {},
     "output_type": "execute_result"
    }
   ],
   "source": [
    "isc.groupby(['is_contract'])[['churn']].agg(['count'])"
   ]
  },
  {
   "cell_type": "markdown",
   "id": "ec0ab071",
   "metadata": {},
   "source": [
    "###### Customers opted for contract are more compared to non - contract. Churn is higher for people who do have contract's. This can be related to customers whose contracts are about to end or ended opting to churn."
   ]
  },
  {
   "cell_type": "markdown",
   "id": "38496bb6",
   "metadata": {},
   "source": [
    "## Do customers having service failure causing churn?"
   ]
  },
  {
   "cell_type": "code",
   "execution_count": 27,
   "id": "38d45d88",
   "metadata": {},
   "outputs": [
    {
     "data": {
      "image/png": "[encoded data removed]",
      "text/plain": [
       "<Figure size 432x288 with 1 Axes>"
      ]
     },
     "metadata": {
      "needs_background": "light"
     },
     "output_type": "display_data"
    }
   ],
   "source": [
    "sn.boxplot(x=\"churn\",y=\"service_failure_count\",data=isc)\n",
    "plt.show() "
   ]
  },
  {
   "cell_type": "markdown",
   "id": "58ac0b1b",
   "metadata": {},
   "source": [
    "###### Customers with higher service failure calls have churned but we can also see the customer who also have high service failure calls has no churn. \n",
    "###### But overall if service failure counts do go high it can lead the customer to quit the service."
   ]
  },
  {
   "cell_type": "markdown",
   "id": "54f16ff1",
   "metadata": {},
   "source": [
    "## Is download average of customers causing churn?"
   ]
  },
  {
   "cell_type": "code",
   "execution_count": 28,
   "id": "15e7beeb",
   "metadata": {},
   "outputs": [
    {
     "data": {
      "image/png": "[encoded data removed]",
      "text/plain": [
       "<Figure size 432x288 with 1 Axes>"
      ]
     },
     "metadata": {
      "needs_background": "light"
     },
     "output_type": "display_data"
    }
   ],
   "source": [
    "sn.boxplot(x=\"churn\",y=\"download_avg\",data=isc)\n",
    "plt.show() "
   ]
  },
  {
   "cell_type": "markdown",
   "id": "edf7685f",
   "metadata": {},
   "source": [
    "###### The download_average doesn't seem to be a factor in churn prediction."
   ]
  },
  {
   "cell_type": "markdown",
   "id": "7235db8b",
   "metadata": {},
   "source": [
    "## Is upload average of customers causing churn?"
   ]
  },
  {
   "cell_type": "code",
   "execution_count": 29,
   "id": "76b9a0b4",
   "metadata": {},
   "outputs": [
    {
     "data": {
      "image/png": "[encoded data removed]",
      "text/plain": [
       "<Figure size 432x288 with 1 Axes>"
      ]
     },
     "metadata": {
      "needs_background": "light"
     },
     "output_type": "display_data"
    }
   ],
   "source": [
    "sn.boxplot(x=\"churn\",y=\"upload_avg\",data=isc)\n",
    "plt.show() "
   ]
  },
  {
   "cell_type": "markdown",
   "id": "7cd8e8f8",
   "metadata": {},
   "source": [
    "###### The upload_average doesn't seem to be a factor in churn prediction."
   ]
  },
  {
   "cell_type": "code",
   "execution_count": 30,
   "id": "0dbdda6f",
   "metadata": {},
   "outputs": [
    {
     "data": {
      "text/html": [
       "<div>\n",
       "<style scoped>\n",
       "    .dataframe tbody tr th:only-of-type {\n",
       "        vertical-align: middle;\n",
       "    }\n",
       "\n",
       "    .dataframe tbody tr th {\n",
       "        vertical-align: top;\n",
       "    }\n",
       "\n",
       "    .dataframe thead tr th {\n",
       "        text-align: left;\n",
       "    }\n",
       "\n",
       "    .dataframe thead tr:last-of-type th {\n",
       "        text-align: right;\n",
       "    }\n",
       "</style>\n",
       "<table border=\"1\" class=\"dataframe\">\n",
       "  <thead>\n",
       "    <tr>\n",
       "      <th></th>\n",
       "      <th></th>\n",
       "      <th>download_avg</th>\n",
       "      <th>upload_avg</th>\n",
       "      <th>churn</th>\n",
       "    </tr>\n",
       "    <tr>\n",
       "      <th></th>\n",
       "      <th></th>\n",
       "      <th>sum</th>\n",
       "      <th>sum</th>\n",
       "      <th>sum</th>\n",
       "    </tr>\n",
       "    <tr>\n",
       "      <th>is_tv_subscriber</th>\n",
       "      <th>is_movie_package_subscriber</th>\n",
       "      <th></th>\n",
       "      <th></th>\n",
       "      <th></th>\n",
       "    </tr>\n",
       "  </thead>\n",
       "  <tbody>\n",
       "    <tr>\n",
       "      <th rowspan=\"2\" valign=\"top\">0</th>\n",
       "      <th>0</th>\n",
       "      <td>347380.1</td>\n",
       "      <td>37656.9</td>\n",
       "      <td>11964</td>\n",
       "    </tr>\n",
       "    <tr>\n",
       "      <th>1</th>\n",
       "      <td>83.2</td>\n",
       "      <td>5.7</td>\n",
       "      <td>2</td>\n",
       "    </tr>\n",
       "    <tr>\n",
       "      <th rowspan=\"2\" valign=\"top\">1</th>\n",
       "      <th>0</th>\n",
       "      <td>1399045.1</td>\n",
       "      <td>131995.1</td>\n",
       "      <td>19891</td>\n",
       "    </tr>\n",
       "    <tr>\n",
       "      <th>1</th>\n",
       "      <td>1394490.4</td>\n",
       "      <td>131723.2</td>\n",
       "      <td>8193</td>\n",
       "    </tr>\n",
       "  </tbody>\n",
       "</table>\n",
       "</div>"
      ],
      "text/plain": [
       "                                             download_avg upload_avg  churn\n",
       "                                                      sum        sum    sum\n",
       "is_tv_subscriber is_movie_package_subscriber                               \n",
       "0                0                               347380.1    37656.9  11964\n",
       "                 1                                   83.2        5.7      2\n",
       "1                0                              1399045.1   131995.1  19891\n",
       "                 1                              1394490.4   131723.2   8193"
      ]
     },
     "execution_count": 30,
     "metadata": {},
     "output_type": "execute_result"
    }
   ],
   "source": [
    "isc.groupby(['is_tv_subscriber', 'is_movie_package_subscriber'])[['download_avg','upload_avg','churn']].agg(['sum'])"
   ]
  },
  {
   "cell_type": "markdown",
   "id": "5dc578af",
   "metadata": {},
   "source": [
    "###### The data shows the customers with tv subscription & both tv and movie subscription has the highest data usage."
   ]
  },
  {
   "cell_type": "markdown",
   "id": "7098c247",
   "metadata": {},
   "source": [
    "## Is customers doing download over limit leading to churn?"
   ]
  },
  {
   "cell_type": "code",
   "execution_count": 31,
   "id": "a253c893",
   "metadata": {},
   "outputs": [
    {
     "data": {
      "image/png": "[encoded data removed]",
      "text/plain": [
       "<Figure size 432x288 with 1 Axes>"
      ]
     },
     "metadata": {
      "needs_background": "light"
     },
     "output_type": "display_data"
    }
   ],
   "source": [
    "sn.boxplot(x=\"churn\",y=\"download_over_limit\",data=isc)\n",
    "plt.show() "
   ]
  },
  {
   "cell_type": "markdown",
   "id": "edf35e52",
   "metadata": {},
   "source": [
    "###### In reality, customers will be real careful about download over limit & also receive warnings if they reach the limit. \n",
    "###### Also, in the graph we cannot see relation between download over limit & churn."
   ]
  },
  {
   "cell_type": "code",
   "execution_count": 32,
   "id": "1133d3a1",
   "metadata": {},
   "outputs": [],
   "source": [
    "correlation = isc.corr()"
   ]
  },
  {
   "cell_type": "code",
   "execution_count": 33,
   "id": "83f2e7c4",
   "metadata": {},
   "outputs": [
    {
     "data": {
      "image/png": "[encoded data removed]",
      "text/plain": [
       "<Figure size 1080x576 with 2 Axes>"
      ]
     },
     "metadata": {
      "needs_background": "light"
     },
     "output_type": "display_data"
    }
   ],
   "source": [
    "plt.figure(figsize=(15,8))\n",
    "\n",
    "sn.heatmap(correlation,vmin=-1,vmax=1,annot=True)\n",
    "plt.show()"
   ]
  },
  {
   "cell_type": "markdown",
   "id": "3bdfb49a",
   "metadata": {},
   "source": [
    "###### We can see from the heatmap service_failure_count & download_over_limit shows the highest correlation with churn. "
   ]
  },
  {
   "cell_type": "markdown",
   "id": "1672a335",
   "metadata": {},
   "source": [
    "## Logistic Regression Modeling"
   ]
  },
  {
   "cell_type": "code",
   "execution_count": 34,
   "id": "071d789c",
   "metadata": {},
   "outputs": [],
   "source": [
    "from sklearn.model_selection import train_test_split\n",
    "\n",
    "x_vars = isc[['is_tv_subscriber','subscription_age','service_failure_count',\n",
    "         'download_avg','is_contract','bill_avg','reamining_contract']]\n",
    "y_var  = isc['churn']\n",
    "\n",
    "xTrain, xValid, yTrain, yValid = train_test_split(x_vars, y_var, train_size=0.6, random_state=2)"
   ]
  },
  {
   "cell_type": "code",
   "execution_count": 35,
   "id": "0fa64f58",
   "metadata": {},
   "outputs": [],
   "source": [
    "from sklearn.linear_model import LogisticRegression\n",
    "LogitModel = LogisticRegression()"
   ]
  },
  {
   "cell_type": "code",
   "execution_count": 36,
   "id": "61ee0cb7",
   "metadata": {},
   "outputs": [
    {
     "data": {
      "text/plain": [
       "0.8771299408832735"
      ]
     },
     "execution_count": 36,
     "metadata": {},
     "output_type": "execute_result"
    }
   ],
   "source": [
    "LogitModel.fit(xTrain,yTrain)\n",
    "\n",
    "from sklearn.metrics import accuracy_score\n",
    "predictions = LogitModel.predict(xTrain)\n",
    "accuracy_score(yTrain, predictions)"
   ]
  },
  {
   "cell_type": "markdown",
   "id": "427eeed8",
   "metadata": {},
   "source": [
    "###### The customer who is going to churn can be predicted with 87.02% accuracy."
   ]
  },
  {
   "cell_type": "code",
   "execution_count": 37,
   "id": "819c38f3",
   "metadata": {},
   "outputs": [
    {
     "data": {
      "text/plain": [
       "0.8761040406147854"
      ]
     },
     "execution_count": 37,
     "metadata": {},
     "output_type": "execute_result"
    }
   ],
   "source": [
    "predictions2 = LogitModel.predict(xValid)\n",
    "accuracy_score(yValid, predictions2)"
   ]
  },
  {
   "cell_type": "code",
   "execution_count": 38,
   "id": "688e3cd1",
   "metadata": {},
   "outputs": [
    {
     "data": {
      "text/plain": [
       "array([[10579,  2177],\n",
       "       [ 1386, 14616]], dtype=int64)"
      ]
     },
     "execution_count": 38,
     "metadata": {},
     "output_type": "execute_result"
    }
   ],
   "source": [
    "from sklearn.metrics import confusion_matrix\n",
    "confusion_matrix(yValid, predictions2)"
   ]
  },
  {
   "cell_type": "code",
   "execution_count": 39,
   "id": "238883a0",
   "metadata": {},
   "outputs": [
    {
     "data": {
      "text/plain": [
       "<AxesSubplot:xlabel='Predicted', ylabel='Actual'>"
      ]
     },
     "execution_count": 39,
     "metadata": {},
     "output_type": "execute_result"
    },
    {
     "data": {
      "image/png": "[encoded data removed]",
      "text/plain": [
       "<Figure size 432x288 with 2 Axes>"
      ]
     },
     "metadata": {
      "needs_background": "light"
     },
     "output_type": "display_data"
    }
   ],
   "source": [
    "confusion_matrix(yValid, predictions2)\n",
    "confusion_matrix = pd.crosstab(yValid, predictions2, rownames=['Actual'], colnames=['Predicted'])\n",
    "sn.heatmap(confusion_matrix, annot=True)"
   ]
  },
  {
   "cell_type": "markdown",
   "id": "6e6924c4",
   "metadata": {},
   "source": [
    "###### Columns are predictions & rows are actual observations. Darker boxes are the ones showing wrong prediction for churn. Lighter boxes shows how many values were corrrectly predicted. \n",
    "###### The values in the darker boxes are column are low compared to the lighter boxes thus showing good accuracy."
   ]
  },
  {
   "cell_type": "code",
   "execution_count": 40,
   "id": "9a87d13c",
   "metadata": {},
   "outputs": [
    {
     "name": "stderr",
     "output_type": "stream",
     "text": [
      "C:\\Users\\Abe\\anaconda3\\lib\\site-packages\\statsmodels\\tsa\\tsatools.py:142: FutureWarning: In a future version of pandas all arguments of concat except for the argument 'objs' will be keyword-only\n",
      "  x = pd.concat(x[::order], 1)\n"
     ]
    }
   ],
   "source": [
    "import statsmodels.api as sm\n",
    "x_inc = isc[['is_tv_subscriber','subscription_age','service_failure_count',\n",
    "         'download_avg','download_over_limit','reamining_contract','is_contract','bill_avg']]\n",
    "x_inc = sm.add_constant(x_inc)\n",
    "y_var = isc['churn']"
   ]
  },
  {
   "cell_type": "code",
   "execution_count": 41,
   "id": "bab3855d",
   "metadata": {},
   "outputs": [],
   "source": [
    "xTrain1, xValid1, yTrain, yValid = train_test_split(x_inc, y_var, train_size=0.6, random_state=2)"
   ]
  },
  {
   "cell_type": "code",
   "execution_count": 42,
   "id": "b077401a",
   "metadata": {},
   "outputs": [
    {
     "name": "stdout",
     "output_type": "stream",
     "text": [
      "Optimization terminated successfully.\n",
      "         Current function value: 0.332210\n",
      "         Iterations 8\n",
      "                           Logit Regression Results                           \n",
      "==============================================================================\n",
      "Dep. Variable:                  churn   No. Observations:                43135\n",
      "Model:                          Logit   Df Residuals:                    43126\n",
      "Method:                           MLE   Df Model:                            8\n",
      "Date:                Tue, 08 Feb 2022   Pseudo R-squ.:                  0.5161\n",
      "Time:                        00:40:47   Log-Likelihood:                -14330.\n",
      "converged:                       True   LL-Null:                       -29613.\n",
      "Covariance Type:            nonrobust   LLR p-value:                     0.000\n",
      "=========================================================================================\n",
      "                            coef    std err          z      P>|z|      [0.025      0.975]\n",
      "-----------------------------------------------------------------------------------------\n",
      "const                     4.8918      0.077     63.644      0.000       4.741       5.042\n",
      "is_tv_subscriber         -1.5403      0.058    -26.479      0.000      -1.654      -1.426\n",
      "subscription_age         -0.2931      0.008    -36.880      0.000      -0.309      -0.278\n",
      "service_failure_count     0.1583      0.020      8.036      0.000       0.120       0.197\n",
      "download_avg             -0.0100      0.000    -28.916      0.000      -0.011      -0.009\n",
      "download_over_limit       0.4308      0.039     10.989      0.000       0.354       0.508\n",
      "reamining_contract       -2.8360      0.033    -84.716      0.000      -2.902      -2.770\n",
      "is_contract              -1.1331      0.043    -26.465      0.000      -1.217      -1.049\n",
      "bill_avg                 -0.0046      0.001     -3.321      0.001      -0.007      -0.002\n",
      "=========================================================================================\n"
     ]
    }
   ],
   "source": [
    "Logit_Inc = sm.Logit(yTrain, xTrain1)\n",
    "results_Inc = Logit_Inc.fit()\n",
    "print(results_Inc.summary())"
   ]
  },
  {
   "cell_type": "markdown",
   "id": "64a4d56f",
   "metadata": {},
   "source": [
    "###### The features which were statiscally unsignificant were removed which include is_movie_package_subscriber & upload_avg.  The statiscally significant features are the ones which can decide which customer will churn."
   ]
  },
  {
   "cell_type": "markdown",
   "id": "5d3f3281",
   "metadata": {},
   "source": [
    "## PCA Analysis"
   ]
  },
  {
   "cell_type": "code",
   "execution_count": 43,
   "id": "4ad8b3e4",
   "metadata": {},
   "outputs": [],
   "source": [
    "# Separate the Target column in y array and rest of the values of the independent feature in X array.\n",
    "\n",
    "x = isc.iloc[:,0:11].values \n",
    "y = isc.iloc[:,11].values"
   ]
  },
  {
   "cell_type": "code",
   "execution_count": 44,
   "id": "23f36824",
   "metadata": {},
   "outputs": [
    {
     "data": {
      "text/plain": [
       "array([[1.500000e+01, 1.000000e+00, 0.000000e+00, ..., 8.400000e+00,\n",
       "        2.300000e+00, 0.000000e+00],\n",
       "       [1.800000e+01, 0.000000e+00, 0.000000e+00, ..., 0.000000e+00,\n",
       "        0.000000e+00, 0.000000e+00],\n",
       "       [2.300000e+01, 1.000000e+00, 0.000000e+00, ..., 1.370000e+01,\n",
       "        9.000000e-01, 0.000000e+00],\n",
       "       ...,\n",
       "       [1.689679e+06, 1.000000e+00, 0.000000e+00, ..., 1.500000e+00,\n",
       "        2.000000e-01, 0.000000e+00],\n",
       "       [1.689733e+06, 0.000000e+00, 0.000000e+00, ..., 0.000000e+00,\n",
       "        0.000000e+00, 0.000000e+00],\n",
       "       [1.689744e+06, 1.000000e+00, 1.000000e+00, ..., 0.000000e+00,\n",
       "        0.000000e+00, 0.000000e+00]])"
      ]
     },
     "execution_count": 44,
     "metadata": {},
     "output_type": "execute_result"
    }
   ],
   "source": [
    "x"
   ]
  },
  {
   "cell_type": "code",
   "execution_count": 45,
   "id": "3734440e",
   "metadata": {},
   "outputs": [
    {
     "data": {
      "text/plain": [
       "array([0, 1, 1, ..., 1, 1, 1], dtype=int64)"
      ]
     },
     "execution_count": 45,
     "metadata": {},
     "output_type": "execute_result"
    }
   ],
   "source": [
    "y"
   ]
  },
  {
   "cell_type": "code",
   "execution_count": 46,
   "id": "d24747ae",
   "metadata": {},
   "outputs": [],
   "source": [
    "from sklearn.preprocessing import StandardScaler"
   ]
  },
  {
   "cell_type": "code",
   "execution_count": 47,
   "id": "d6852cdb",
   "metadata": {},
   "outputs": [],
   "source": [
    "# Standarization\n",
    "scaler = StandardScaler()\n",
    "scaler.fit(x)\n",
    "x_std = scaler.transform(x)"
   ]
  },
  {
   "cell_type": "code",
   "execution_count": 48,
   "id": "60f453e3",
   "metadata": {},
   "outputs": [
    {
     "data": {
      "text/plain": [
       "array([[-1.73097508,  0.47608257, -0.70827261, ..., -0.55657473,\n",
       "        -0.19269873, -0.20878809],\n",
       "       [-1.73096892, -2.10047599, -0.70827261, ..., -0.68905531,\n",
       "        -0.42694257, -0.20878809],\n",
       "       [-1.73095865,  0.47608257, -0.70827261, ..., -0.4729858 ,\n",
       "        -0.33528194, -0.20878809],\n",
       "       ...,\n",
       "       [ 1.73736861,  0.47608257, -0.70827261, ..., -0.66539806,\n",
       "        -0.40657354, -0.20878809],\n",
       "       [ 1.73747945, -2.10047599, -0.70827261, ..., -0.68905531,\n",
       "        -0.42694257, -0.20878809],\n",
       "       [ 1.73750203,  0.47608257,  1.41188573, ..., -0.68905531,\n",
       "        -0.42694257, -0.20878809]])"
      ]
     },
     "execution_count": 48,
     "metadata": {},
     "output_type": "execute_result"
    }
   ],
   "source": [
    "x_std"
   ]
  },
  {
   "cell_type": "code",
   "execution_count": 49,
   "id": "96155db8",
   "metadata": {},
   "outputs": [
    {
     "name": "stdout",
     "output_type": "stream",
     "text": [
      "Covariance matrix \n",
      "\n"
     ]
    },
    {
     "data": {
      "text/plain": [
       "array([[ 1.00001391e+00,  2.83388513e-01,  1.31649437e-01,\n",
       "        -5.98808536e-01,  2.87240203e-02,  4.47064087e-01,\n",
       "         4.36734803e-01, -2.46555469e-02,  2.41281526e-01,\n",
       "         1.45938529e-01, -2.29179163e-01],\n",
       "       [ 2.83388513e-01,  1.00001391e+00,  3.37048964e-01,\n",
       "         8.99946592e-02, -7.61986749e-02,  2.57427622e-01,\n",
       "         3.10066087e-01, -1.60232463e-02,  1.31651860e-01,\n",
       "         6.57920589e-02, -1.03808503e-01],\n",
       "       [ 1.31649437e-01,  3.37048964e-01,  1.00001391e+00,\n",
       "         1.34535932e-01, -2.12309078e-02,  3.45529777e-01,\n",
       "         2.08609688e-01,  1.38045013e-02,  1.60591763e-01,\n",
       "         9.32522140e-02, -2.61872661e-02],\n",
       "       [-5.98808536e-01,  8.99946592e-02,  1.34535932e-01,\n",
       "         1.00001391e+00,  6.09316265e-02, -1.68467526e-02,\n",
       "        -1.10485266e-01,  2.52781458e-03,  6.93322577e-02,\n",
       "         3.02774414e-02,  2.32948858e-02],\n",
       "       [ 2.87240203e-02, -7.61986749e-02, -2.12309078e-02,\n",
       "         6.09316265e-02,  1.00001391e+00, -5.94216535e-02,\n",
       "        -7.29343104e-02,  9.98865353e-02,  4.31680213e-01,\n",
       "         3.34240206e-01, -2.35035982e-01],\n",
       "       [ 4.47064087e-01,  2.57427622e-01,  3.45529777e-01,\n",
       "        -1.68467526e-02, -5.94216535e-02,  1.00001391e+00,\n",
       "         4.88516472e-01, -7.21301684e-03,  2.03307863e-01,\n",
       "         1.03784933e-01, -1.20201813e-01],\n",
       "       [ 4.36734803e-01,  3.10066087e-01,  2.08609688e-01,\n",
       "        -1.10485266e-01, -7.29343104e-02,  4.88516472e-01,\n",
       "         1.00001391e+00, -3.36051541e-04,  1.80960225e-01,\n",
       "         9.84326654e-02, -2.04455555e-01],\n",
       "       [-2.46555469e-02, -1.60232463e-02,  1.38045013e-02,\n",
       "         2.52781458e-03,  9.98865353e-02, -7.21301684e-03,\n",
       "        -3.36051541e-04,  1.00001391e+00,  8.04842434e-02,\n",
       "         7.06999278e-02,  4.58173792e-03],\n",
       "       [ 2.41281526e-01,  1.31651860e-01,  1.60591763e-01,\n",
       "         6.93322577e-02,  4.31680213e-01,  2.03307863e-01,\n",
       "         1.80960225e-01,  8.04842434e-02,  1.00001391e+00,\n",
       "         5.54443605e-01, -1.14323141e-01],\n",
       "       [ 1.45938529e-01,  6.57920589e-02,  9.32522140e-02,\n",
       "         3.02774414e-02,  3.34240206e-01,  1.03784933e-01,\n",
       "         9.84326654e-02,  7.06999278e-02,  5.54443605e-01,\n",
       "         1.00001391e+00, -6.91930972e-02],\n",
       "       [-2.29179163e-01, -1.03808503e-01, -2.61872661e-02,\n",
       "         2.32948858e-02, -2.35035982e-01, -1.20201813e-01,\n",
       "        -2.04455555e-01,  4.58173792e-03, -1.14323141e-01,\n",
       "        -6.91930972e-02,  1.00001391e+00]])"
      ]
     },
     "execution_count": 49,
     "metadata": {},
     "output_type": "execute_result"
    }
   ],
   "source": [
    "# Covariance Matrix\n",
    "print('Covariance matrix \\n') \n",
    "cov_mat= np.cov(x_std, rowvar=False) \n",
    "cov_mat"
   ]
  },
  {
   "cell_type": "code",
   "execution_count": 50,
   "id": "d67beefa",
   "metadata": {},
   "outputs": [
    {
     "name": "stdout",
     "output_type": "stream",
     "text": [
      "Eigenvectors \n",
      "[[-4.49818158e-01 -2.30766382e-01 -3.82344951e-01 -7.27178087e-01\n",
      "   6.76505681e-02 -5.57865810e-02  6.52596968e-02  1.63648434e-01\n",
      "   1.53128905e-01 -4.83081870e-02 -7.01736940e-02]\n",
      " [-3.12868689e-01 -1.50022361e-01  3.47941594e-01  1.95939093e-01\n",
      "  -5.35207853e-02  4.00201299e-02 -1.16693923e-01  1.55451815e-01\n",
      "   6.32531759e-01  4.83670300e-01 -2.09448761e-01]\n",
      " [-2.77120339e-01 -5.63810177e-02  4.67218692e-01 -2.63168973e-02\n",
      "   1.23794047e-01 -2.02397529e-02  3.10532105e-02 -2.98519766e-01\n",
      "   2.87238622e-01 -6.72260480e-01  2.46549118e-01]\n",
      " [ 1.33339804e-01  2.75531678e-01  6.51649114e-01 -5.63430209e-01\n",
      "  -2.09964568e-01  7.87926702e-02  3.69572440e-02  1.25934703e-01\n",
      "  -2.51666179e-01  1.66991375e-01 -7.39043021e-02]\n",
      " [-1.27088801e-01  5.46257674e-01 -1.77290942e-01  2.16262954e-03\n",
      "  -2.00721550e-01  8.47789943e-02 -3.79484413e-01 -1.64701156e-01\n",
      "   1.19565099e-01 -2.66536842e-01 -5.91662932e-01]\n",
      " [-4.19543773e-01 -1.91438554e-01  1.72529828e-01  2.73853248e-01\n",
      "   5.78342453e-02  7.23929629e-04 -1.93966896e-01  5.62065755e-01\n",
      "  -4.89611670e-01 -2.26991117e-01 -1.85583436e-01]\n",
      " [-4.16918741e-01 -2.18839573e-01  5.48624328e-02  2.26044922e-02\n",
      "  -5.92223140e-02  1.02927253e-01 -7.00029249e-02 -6.93259742e-01\n",
      "  -4.14238661e-01  3.11649629e-01 -8.02322558e-02]\n",
      " [-2.54457269e-02  1.65555887e-01 -2.39468839e-02 -2.85633052e-02\n",
      "   5.60411893e-01  8.05434999e-01  1.42175912e-02  4.78766154e-02\n",
      "   6.08108183e-03  5.79273112e-02  4.33653908e-02]\n",
      " [-3.44870545e-01  4.61161088e-01 -1.32737864e-02  1.68674379e-01\n",
      "   1.22727292e-01 -2.00394928e-01  7.51402293e-01  2.68205562e-02\n",
      "  -4.71594026e-02  8.16672581e-02 -1.01632206e-01]\n",
      " [-2.65807685e-01  4.63630575e-01 -5.32892955e-02 -2.10410637e-02\n",
      "   1.97879790e-01 -2.85230902e-01 -4.63374493e-01  5.37251625e-02\n",
      "  -3.54809771e-02  2.26660915e-01  5.66004441e-01]\n",
      " [ 2.21302829e-01 -8.47060093e-02  1.48361753e-01 -9.72257460e-02\n",
      "   7.19532993e-01 -4.47935218e-01 -1.17209679e-01 -1.20536154e-01\n",
      "  -3.85261391e-02  5.30702870e-02 -4.01801461e-01]]\n",
      "\n",
      "Eigenvalues \n",
      "[2.66820049 1.80660935 1.46684965 0.19907254 1.01265738 0.96368035\n",
      " 0.40065801 0.47374079 0.76180788 0.69503013 0.55184643]\n"
     ]
    }
   ],
   "source": [
    "# Eigen vectors, Eigen values\n",
    "cov_mat = np.cov(x_std.T) \n",
    "eig_vals, eig_vecs = np.linalg.eig(cov_mat) \n",
    "print('Eigenvectors \\n%s' %eig_vecs) \n",
    "print('\\nEigenvalues \\n%s' %eig_vals)"
   ]
  },
  {
   "cell_type": "code",
   "execution_count": 51,
   "id": "10801ab7",
   "metadata": {},
   "outputs": [
    {
     "name": "stdout",
     "output_type": "stream",
     "text": [
      "[array([0.20233638, 0.05325312, 0.14618766, 0.52878797, 0.0045766 ,\n",
      "       0.00311214, 0.00425883, 0.02678081, 0.02344846, 0.00233368,\n",
      "       0.00492435])]\n",
      "[array([0.20233638, 0.05325312, 0.14618766, 0.52878797, 0.0045766 ,\n",
      "       0.00311214, 0.00425883, 0.02678081, 0.02344846, 0.00233368,\n",
      "       0.00492435]), array([0.09788682, 0.02250671, 0.12106335, 0.03839213, 0.00286447,\n",
      "       0.00160161, 0.01361747, 0.02416527, 0.40009643, 0.23393696,\n",
      "       0.04386878])]\n",
      "[array([0.20233638, 0.05325312, 0.14618766, 0.52878797, 0.0045766 ,\n",
      "       0.00311214, 0.00425883, 0.02678081, 0.02344846, 0.00233368,\n",
      "       0.00492435]), array([0.09788682, 0.02250671, 0.12106335, 0.03839213, 0.00286447,\n",
      "       0.00160161, 0.01361747, 0.02416527, 0.40009643, 0.23393696,\n",
      "       0.04386878]), array([7.67956822e-02, 3.17881916e-03, 2.18293306e-01, 6.92579084e-04,\n",
      "       1.53249662e-02, 4.09647597e-04, 9.64301885e-04, 8.91140509e-02,\n",
      "       8.25060257e-02, 4.51934154e-01, 6.07864675e-02])]\n",
      "[array([0.20233638, 0.05325312, 0.14618766, 0.52878797, 0.0045766 ,\n",
      "       0.00311214, 0.00425883, 0.02678081, 0.02344846, 0.00233368,\n",
      "       0.00492435]), array([0.09788682, 0.02250671, 0.12106335, 0.03839213, 0.00286447,\n",
      "       0.00160161, 0.01361747, 0.02416527, 0.40009643, 0.23393696,\n",
      "       0.04386878]), array([7.67956822e-02, 3.17881916e-03, 2.18293306e-01, 6.92579084e-04,\n",
      "       1.53249662e-02, 4.09647597e-04, 9.64301885e-04, 8.91140509e-02,\n",
      "       8.25060257e-02, 4.51934154e-01, 6.07864675e-02]), array([0.0177795 , 0.07591771, 0.42464657, 0.3174536 , 0.04408512,\n",
      "       0.00620828, 0.00136584, 0.01585955, 0.06333587, 0.02788612,\n",
      "       0.00546185])]\n",
      "[array([0.20233638, 0.05325312, 0.14618766, 0.52878797, 0.0045766 ,\n",
      "       0.00311214, 0.00425883, 0.02678081, 0.02344846, 0.00233368,\n",
      "       0.00492435]), array([0.09788682, 0.02250671, 0.12106335, 0.03839213, 0.00286447,\n",
      "       0.00160161, 0.01361747, 0.02416527, 0.40009643, 0.23393696,\n",
      "       0.04386878]), array([7.67956822e-02, 3.17881916e-03, 2.18293306e-01, 6.92579084e-04,\n",
      "       1.53249662e-02, 4.09647597e-04, 9.64301885e-04, 8.91140509e-02,\n",
      "       8.25060257e-02, 4.51934154e-01, 6.07864675e-02]), array([0.0177795 , 0.07591771, 0.42464657, 0.3174536 , 0.04408512,\n",
      "       0.00620828, 0.00136584, 0.01585955, 0.06333587, 0.02788612,\n",
      "       0.00546185]), array([1.61515633e-02, 2.98397446e-01, 3.14320781e-02, 4.67696654e-06,\n",
      "       4.02891407e-02, 7.18747787e-03, 1.44008419e-01, 2.71264706e-02,\n",
      "       1.42958129e-02, 7.10418882e-02, 3.50065026e-01])]\n",
      "[array([0.20233638, 0.05325312, 0.14618766, 0.52878797, 0.0045766 ,\n",
      "       0.00311214, 0.00425883, 0.02678081, 0.02344846, 0.00233368,\n",
      "       0.00492435]), array([0.09788682, 0.02250671, 0.12106335, 0.03839213, 0.00286447,\n",
      "       0.00160161, 0.01361747, 0.02416527, 0.40009643, 0.23393696,\n",
      "       0.04386878]), array([7.67956822e-02, 3.17881916e-03, 2.18293306e-01, 6.92579084e-04,\n",
      "       1.53249662e-02, 4.09647597e-04, 9.64301885e-04, 8.91140509e-02,\n",
      "       8.25060257e-02, 4.51934154e-01, 6.07864675e-02]), array([0.0177795 , 0.07591771, 0.42464657, 0.3174536 , 0.04408512,\n",
      "       0.00620828, 0.00136584, 0.01585955, 0.06333587, 0.02788612,\n",
      "       0.00546185]), array([1.61515633e-02, 2.98397446e-01, 3.14320781e-02, 4.67696654e-06,\n",
      "       4.02891407e-02, 7.18747787e-03, 1.44008419e-01, 2.71264706e-02,\n",
      "       1.42958129e-02, 7.10418882e-02, 3.50065026e-01]), array([1.76016978e-01, 3.66487200e-02, 2.97665415e-02, 7.49956014e-02,\n",
      "       3.34479993e-03, 5.24074108e-07, 3.76231567e-02, 3.15917913e-01,\n",
      "       2.39719587e-01, 5.15249672e-02, 3.44412117e-02])]\n",
      "[array([0.20233638, 0.05325312, 0.14618766, 0.52878797, 0.0045766 ,\n",
      "       0.00311214, 0.00425883, 0.02678081, 0.02344846, 0.00233368,\n",
      "       0.00492435]), array([0.09788682, 0.02250671, 0.12106335, 0.03839213, 0.00286447,\n",
      "       0.00160161, 0.01361747, 0.02416527, 0.40009643, 0.23393696,\n",
      "       0.04386878]), array([7.67956822e-02, 3.17881916e-03, 2.18293306e-01, 6.92579084e-04,\n",
      "       1.53249662e-02, 4.09647597e-04, 9.64301885e-04, 8.91140509e-02,\n",
      "       8.25060257e-02, 4.51934154e-01, 6.07864675e-02]), array([0.0177795 , 0.07591771, 0.42464657, 0.3174536 , 0.04408512,\n",
      "       0.00620828, 0.00136584, 0.01585955, 0.06333587, 0.02788612,\n",
      "       0.00546185]), array([1.61515633e-02, 2.98397446e-01, 3.14320781e-02, 4.67696654e-06,\n",
      "       4.02891407e-02, 7.18747787e-03, 1.44008419e-01, 2.71264706e-02,\n",
      "       1.42958129e-02, 7.10418882e-02, 3.50065026e-01]), array([1.76016978e-01, 3.66487200e-02, 2.97665415e-02, 7.49956014e-02,\n",
      "       3.34479993e-03, 5.24074108e-07, 3.76231567e-02, 3.15917913e-01,\n",
      "       2.39719587e-01, 5.15249672e-02, 3.44412117e-02]), array([0.17382124, 0.04789076, 0.00300989, 0.00051096, 0.00350728,\n",
      "       0.01059402, 0.00490041, 0.48060907, 0.17159367, 0.09712549,\n",
      "       0.00643721])]\n",
      "[array([0.20233638, 0.05325312, 0.14618766, 0.52878797, 0.0045766 ,\n",
      "       0.00311214, 0.00425883, 0.02678081, 0.02344846, 0.00233368,\n",
      "       0.00492435]), array([0.09788682, 0.02250671, 0.12106335, 0.03839213, 0.00286447,\n",
      "       0.00160161, 0.01361747, 0.02416527, 0.40009643, 0.23393696,\n",
      "       0.04386878]), array([7.67956822e-02, 3.17881916e-03, 2.18293306e-01, 6.92579084e-04,\n",
      "       1.53249662e-02, 4.09647597e-04, 9.64301885e-04, 8.91140509e-02,\n",
      "       8.25060257e-02, 4.51934154e-01, 6.07864675e-02]), array([0.0177795 , 0.07591771, 0.42464657, 0.3174536 , 0.04408512,\n",
      "       0.00620828, 0.00136584, 0.01585955, 0.06333587, 0.02788612,\n",
      "       0.00546185]), array([1.61515633e-02, 2.98397446e-01, 3.14320781e-02, 4.67696654e-06,\n",
      "       4.02891407e-02, 7.18747787e-03, 1.44008419e-01, 2.71264706e-02,\n",
      "       1.42958129e-02, 7.10418882e-02, 3.50065026e-01]), array([1.76016978e-01, 3.66487200e-02, 2.97665415e-02, 7.49956014e-02,\n",
      "       3.34479993e-03, 5.24074108e-07, 3.76231567e-02, 3.15917913e-01,\n",
      "       2.39719587e-01, 5.15249672e-02, 3.44412117e-02]), array([0.17382124, 0.04789076, 0.00300989, 0.00051096, 0.00350728,\n",
      "       0.01059402, 0.00490041, 0.48060907, 0.17159367, 0.09712549,\n",
      "       0.00643721]), array([6.47485015e-04, 2.74087518e-02, 5.73453247e-04, 8.15862406e-04,\n",
      "       3.14061489e-01, 6.48725538e-01, 2.02139899e-04, 2.29217030e-03,\n",
      "       3.69795562e-05, 3.35557339e-03, 1.88055712e-03])]\n",
      "[array([0.20233638, 0.05325312, 0.14618766, 0.52878797, 0.0045766 ,\n",
      "       0.00311214, 0.00425883, 0.02678081, 0.02344846, 0.00233368,\n",
      "       0.00492435]), array([0.09788682, 0.02250671, 0.12106335, 0.03839213, 0.00286447,\n",
      "       0.00160161, 0.01361747, 0.02416527, 0.40009643, 0.23393696,\n",
      "       0.04386878]), array([7.67956822e-02, 3.17881916e-03, 2.18293306e-01, 6.92579084e-04,\n",
      "       1.53249662e-02, 4.09647597e-04, 9.64301885e-04, 8.91140509e-02,\n",
      "       8.25060257e-02, 4.51934154e-01, 6.07864675e-02]), array([0.0177795 , 0.07591771, 0.42464657, 0.3174536 , 0.04408512,\n",
      "       0.00620828, 0.00136584, 0.01585955, 0.06333587, 0.02788612,\n",
      "       0.00546185]), array([1.61515633e-02, 2.98397446e-01, 3.14320781e-02, 4.67696654e-06,\n",
      "       4.02891407e-02, 7.18747787e-03, 1.44008419e-01, 2.71264706e-02,\n",
      "       1.42958129e-02, 7.10418882e-02, 3.50065026e-01]), array([1.76016978e-01, 3.66487200e-02, 2.97665415e-02, 7.49956014e-02,\n",
      "       3.34479993e-03, 5.24074108e-07, 3.76231567e-02, 3.15917913e-01,\n",
      "       2.39719587e-01, 5.15249672e-02, 3.44412117e-02]), array([0.17382124, 0.04789076, 0.00300989, 0.00051096, 0.00350728,\n",
      "       0.01059402, 0.00490041, 0.48060907, 0.17159367, 0.09712549,\n",
      "       0.00643721]), array([6.47485015e-04, 2.74087518e-02, 5.73453247e-04, 8.15862406e-04,\n",
      "       3.14061489e-01, 6.48725538e-01, 2.02139899e-04, 2.29217030e-03,\n",
      "       3.69795562e-05, 3.35557339e-03, 1.88055712e-03]), array([1.18935693e-01, 2.12669549e-01, 1.76193405e-04, 2.84510460e-02,\n",
      "       1.50619881e-02, 4.01581273e-02, 5.64605406e-01, 7.19342234e-04,\n",
      "       2.22400925e-03, 6.66954104e-03, 1.03291054e-02])]\n",
      "[array([0.20233638, 0.05325312, 0.14618766, 0.52878797, 0.0045766 ,\n",
      "       0.00311214, 0.00425883, 0.02678081, 0.02344846, 0.00233368,\n",
      "       0.00492435]), array([0.09788682, 0.02250671, 0.12106335, 0.03839213, 0.00286447,\n",
      "       0.00160161, 0.01361747, 0.02416527, 0.40009643, 0.23393696,\n",
      "       0.04386878]), array([7.67956822e-02, 3.17881916e-03, 2.18293306e-01, 6.92579084e-04,\n",
      "       1.53249662e-02, 4.09647597e-04, 9.64301885e-04, 8.91140509e-02,\n",
      "       8.25060257e-02, 4.51934154e-01, 6.07864675e-02]), array([0.0177795 , 0.07591771, 0.42464657, 0.3174536 , 0.04408512,\n",
      "       0.00620828, 0.00136584, 0.01585955, 0.06333587, 0.02788612,\n",
      "       0.00546185]), array([1.61515633e-02, 2.98397446e-01, 3.14320781e-02, 4.67696654e-06,\n",
      "       4.02891407e-02, 7.18747787e-03, 1.44008419e-01, 2.71264706e-02,\n",
      "       1.42958129e-02, 7.10418882e-02, 3.50065026e-01]), array([1.76016978e-01, 3.66487200e-02, 2.97665415e-02, 7.49956014e-02,\n",
      "       3.34479993e-03, 5.24074108e-07, 3.76231567e-02, 3.15917913e-01,\n",
      "       2.39719587e-01, 5.15249672e-02, 3.44412117e-02]), array([0.17382124, 0.04789076, 0.00300989, 0.00051096, 0.00350728,\n",
      "       0.01059402, 0.00490041, 0.48060907, 0.17159367, 0.09712549,\n",
      "       0.00643721]), array([6.47485015e-04, 2.74087518e-02, 5.73453247e-04, 8.15862406e-04,\n",
      "       3.14061489e-01, 6.48725538e-01, 2.02139899e-04, 2.29217030e-03,\n",
      "       3.69795562e-05, 3.35557339e-03, 1.88055712e-03]), array([1.18935693e-01, 2.12669549e-01, 1.76193405e-04, 2.84510460e-02,\n",
      "       1.50619881e-02, 4.01581273e-02, 5.64605406e-01, 7.19342234e-04,\n",
      "       2.22400925e-03, 6.66954104e-03, 1.03291054e-02]), array([0.07065373, 0.21495331, 0.00283975, 0.00044273, 0.03915641,\n",
      "       0.08135667, 0.21471592, 0.00288639, 0.0012589 , 0.05137517,\n",
      "       0.32036103])]\n",
      "[array([0.20233638, 0.05325312, 0.14618766, 0.52878797, 0.0045766 ,\n",
      "       0.00311214, 0.00425883, 0.02678081, 0.02344846, 0.00233368,\n",
      "       0.00492435]), array([0.09788682, 0.02250671, 0.12106335, 0.03839213, 0.00286447,\n",
      "       0.00160161, 0.01361747, 0.02416527, 0.40009643, 0.23393696,\n",
      "       0.04386878]), array([7.67956822e-02, 3.17881916e-03, 2.18293306e-01, 6.92579084e-04,\n",
      "       1.53249662e-02, 4.09647597e-04, 9.64301885e-04, 8.91140509e-02,\n",
      "       8.25060257e-02, 4.51934154e-01, 6.07864675e-02]), array([0.0177795 , 0.07591771, 0.42464657, 0.3174536 , 0.04408512,\n",
      "       0.00620828, 0.00136584, 0.01585955, 0.06333587, 0.02788612,\n",
      "       0.00546185]), array([1.61515633e-02, 2.98397446e-01, 3.14320781e-02, 4.67696654e-06,\n",
      "       4.02891407e-02, 7.18747787e-03, 1.44008419e-01, 2.71264706e-02,\n",
      "       1.42958129e-02, 7.10418882e-02, 3.50065026e-01]), array([1.76016978e-01, 3.66487200e-02, 2.97665415e-02, 7.49956014e-02,\n",
      "       3.34479993e-03, 5.24074108e-07, 3.76231567e-02, 3.15917913e-01,\n",
      "       2.39719587e-01, 5.15249672e-02, 3.44412117e-02]), array([0.17382124, 0.04789076, 0.00300989, 0.00051096, 0.00350728,\n",
      "       0.01059402, 0.00490041, 0.48060907, 0.17159367, 0.09712549,\n",
      "       0.00643721]), array([6.47485015e-04, 2.74087518e-02, 5.73453247e-04, 8.15862406e-04,\n",
      "       3.14061489e-01, 6.48725538e-01, 2.02139899e-04, 2.29217030e-03,\n",
      "       3.69795562e-05, 3.35557339e-03, 1.88055712e-03]), array([1.18935693e-01, 2.12669549e-01, 1.76193405e-04, 2.84510460e-02,\n",
      "       1.50619881e-02, 4.01581273e-02, 5.64605406e-01, 7.19342234e-04,\n",
      "       2.22400925e-03, 6.66954104e-03, 1.03291054e-02]), array([0.07065373, 0.21495331, 0.00283975, 0.00044273, 0.03915641,\n",
      "       0.08135667, 0.21471592, 0.00288639, 0.0012589 , 0.05137517,\n",
      "       0.32036103]), array([0.04897494, 0.00717511, 0.02201121, 0.00945285, 0.51772773,\n",
      "       0.20064596, 0.01373811, 0.01452896, 0.00148426, 0.00281646,\n",
      "       0.16144441])]\n",
      "sum of squares of each values in an eigen vector is \n",
      " [1. 1. 1. 1. 1. 1. 1. 1. 1. 1. 1.]\n"
     ]
    }
   ],
   "source": [
    "# Eigen vector verification\n",
    "sq_eig=[] \n",
    "for i in eig_vecs: \n",
    "    sq_eig.append(i**2) \n",
    "    print(sq_eig)\n",
    "    \n",
    "a = sum(sq_eig) \n",
    "print(\"sum of squares of each values in an eigen vector is \\n\", a) \n",
    "for ev in eig_vecs: np.testing.assert_array_almost_equal(1.0, np.linalg.norm(ev))"
   ]
  },
  {
   "cell_type": "code",
   "execution_count": 52,
   "id": "bcbd0304",
   "metadata": {},
   "outputs": [
    {
     "name": "stdout",
     "output_type": "stream",
     "text": [
      "<class 'list'>\n",
      "\n",
      " [(0.551846433429104, array([-0.07017369, -0.20944876,  0.24654912, -0.0739043 , -0.59166293,\n",
      "       -0.18558344, -0.08023226,  0.04336539, -0.10163221,  0.56600444,\n",
      "       -0.40180146])), (0.6950301304244645, array([-0.04830819,  0.4836703 , -0.67226048,  0.16699137, -0.26653684,\n",
      "       -0.22699112,  0.31164963,  0.05792731,  0.08166726,  0.22666092,\n",
      "        0.05307029])), (0.7618078817428381, array([ 0.1531289 ,  0.63253176,  0.28723862, -0.25166618,  0.1195651 ,\n",
      "       -0.48961167, -0.41423866,  0.00608108, -0.0471594 , -0.03548098,\n",
      "       -0.03852614])), (0.47374079267148206, array([ 0.16364843,  0.15545182, -0.29851977,  0.1259347 , -0.16470116,\n",
      "        0.56206575, -0.69325974,  0.04787662,  0.02682056,  0.05372516,\n",
      "       -0.12053615])), (0.40065800703879745, array([ 0.0652597 , -0.11669392,  0.03105321,  0.03695724, -0.37948441,\n",
      "       -0.1939669 , -0.07000292,  0.01421759,  0.75140229, -0.46337449,\n",
      "       -0.11720968])), (0.9636803496868052, array([-5.57865810e-02,  4.00201299e-02, -2.02397529e-02,  7.87926702e-02,\n",
      "        8.47789943e-02,  7.23929629e-04,  1.02927253e-01,  8.05434999e-01,\n",
      "       -2.00394928e-01, -2.85230902e-01, -4.47935218e-01])), (1.0126573823256408, array([ 0.06765057, -0.05352079,  0.12379405, -0.20996457, -0.20072155,\n",
      "        0.05783425, -0.05922231,  0.56041189,  0.12272729,  0.19787979,\n",
      "        0.71953299])), (0.19907254385184786, array([-0.72717809,  0.19593909, -0.0263169 , -0.56343021,  0.00216263,\n",
      "        0.27385325,  0.02260449, -0.02856331,  0.16867438, -0.02104106,\n",
      "       -0.09722575])), (1.4668496495173475, array([-0.38234495,  0.34794159,  0.46721869,  0.65164911, -0.17729094,\n",
      "        0.17252983,  0.05486243, -0.02394688, -0.01327379, -0.0532893 ,\n",
      "        0.14836175])), (1.8066093491676354, array([-0.23076638, -0.15002236, -0.05638102,  0.27553168,  0.54625767,\n",
      "       -0.19143855, -0.21883957,  0.16555589,  0.46116109,  0.46363057,\n",
      "       -0.08470601])), (2.6682004874325407, array([-0.44981816, -0.31286869, -0.27712034,  0.1333398 , -0.1270888 ,\n",
      "       -0.41954377, -0.41691874, -0.02544573, -0.34487054, -0.26580768,\n",
      "        0.22130283]))]\n",
      "\n",
      "\n",
      "\n",
      "Eigenvalues in descending order:\n",
      "0.551846433429104\n",
      "0.6950301304244645\n",
      "0.7618078817428381\n",
      "0.47374079267148206\n",
      "0.40065800703879745\n",
      "0.9636803496868052\n",
      "1.0126573823256408\n",
      "0.19907254385184786\n",
      "1.4668496495173475\n",
      "1.8066093491676354\n",
      "2.6682004874325407\n"
     ]
    }
   ],
   "source": [
    "#Make a list of (eigenvalue, eigenvector) tuples \n",
    "eig_pairs = [(np.abs(eig_vals[i]), eig_vecs[:,i]) for i in range(len(eig_vals))] \n",
    "\n",
    "print(type(eig_pairs)) \n",
    "    \n",
    "#Sort the (eigenvalue, eigenvector) tuples from high to low eig_pairs.sort() \n",
    "eig_pairs.reverse() \n",
    "print(\"\\n\",eig_pairs) \n",
    "\n",
    "#Visually confirm that the list is correctly sorted by decreasing eigenvalues \n",
    "print('\\n\\n\\nEigenvalues in descending order:') \n",
    "for i in eig_pairs: \n",
    "    print(i[0])"
   ]
  },
  {
   "cell_type": "code",
   "execution_count": 53,
   "id": "25fddd7e",
   "metadata": {},
   "outputs": [
    {
     "name": "stdout",
     "output_type": "stream",
     "text": [
      "\n",
      " 11.000153007288505\n",
      "\n",
      "\n",
      "1. Variance Explained\n",
      " [24.256030672161003, 16.42349290933143, 13.334811329855494, 9.205848151881817, 8.760608593792176, 6.925429866639835, 6.318367844192258, 5.016715977163775, 4.306674574049923, 3.642294855110912, 1.8097252258213676]\n",
      "\n",
      "\n",
      "2. Cumulative Variance Explained\n",
      " [ 24.25603067  40.67952358  54.01433491  63.22018306  71.98079166\n",
      "  78.90622152  85.22458937  90.24130535  94.54797992  98.19027477\n",
      " 100.        ]\n",
      "\n",
      "\n",
      "3. Percentage of variance the first seven principal components each contain\n",
      "  [24.256030672161003, 16.42349290933143, 13.334811329855494, 9.205848151881817, 8.760608593792176, 6.925429866639835, 6.318367844192258]\n",
      "\n",
      "\n",
      "4. Percentage of variance the first seven principal components together contain\n",
      " 85.22458936785401\n"
     ]
    }
   ],
   "source": [
    "# Explained Variance\n",
    "tot = sum(eig_vals) \n",
    "print(\"\\n\",tot) \n",
    "var_exp = [(i / tot)*100 for i in sorted(eig_vals, reverse=True)] \n",
    "print(\"\\n\\n1. Variance Explained\\n\",var_exp) \n",
    "cum_var_exp = np.cumsum(var_exp) \n",
    "print(\"\\n\\n2. Cumulative Variance Explained\\n\",cum_var_exp) \n",
    "print(\"\\n\\n3. Percentage of variance the first seven principal components each contain\\n \",var_exp[0:7]) \n",
    "print(\"\\n\\n4. Percentage of variance the first seven principal components together contain\\n\",sum(var_exp[0:7]))"
   ]
  },
  {
   "cell_type": "code",
   "execution_count": 54,
   "id": "6d462684",
   "metadata": {},
   "outputs": [
    {
     "name": "stdout",
     "output_type": "stream",
     "text": [
      "Eigen values in descending order:\n",
      "2.6682004874325407\n",
      "1.8066093491676354\n",
      "1.4668496495173475\n",
      "0.19907254385184786\n",
      "1.0126573823256408\n",
      "0.9636803496868052\n",
      "0.40065800703879745\n",
      "0.47374079267148206\n",
      "0.7618078817428381\n",
      "0.6950301304244645\n",
      "0.551846433429104\n"
     ]
    }
   ],
   "source": [
    "cov_mat = np.cov(x_std.T)\n",
    "eig_vals, eig_vecs = np.linalg.eig(cov_mat)\n",
    "eig_pairs = [(np.abs(eig_vals[i]),eig_vecs[:,i]) for i in range(len(eig_vals))]\n",
    "print(\"Eigen values in descending order:\")\n",
    "for i in eig_pairs:\n",
    "    print(i[0])"
   ]
  },
  {
   "cell_type": "code",
   "execution_count": 55,
   "id": "b9e8241d",
   "metadata": {},
   "outputs": [
    {
     "data": {
      "image/png": "[encoded data removed]",
      "text/plain": [
       "<Figure size 432x288 with 1 Axes>"
      ]
     },
     "metadata": {
      "needs_background": "light"
     },
     "output_type": "display_data"
    }
   ],
   "source": [
    "# Scree Plot\n",
    "from sklearn.decomposition import PCA\n",
    "pca = PCA().fit(x_std)\n",
    "plt.plot(np.cumsum(pca.explained_variance_ratio_))\n",
    "plt.xlabel(\"number of components\")\n",
    "plt.ylabel(\"cumulative explained variance\")\n",
    "plt.show()"
   ]
  },
  {
   "cell_type": "code",
   "execution_count": 56,
   "id": "1ab6468b",
   "metadata": {},
   "outputs": [
    {
     "name": "stdout",
     "output_type": "stream",
     "text": [
      "[0.24256031 0.16423493 0.13334811 0.09205848 0.08760609 0.0692543\n",
      " 0.06318368]\n"
     ]
    }
   ],
   "source": [
    "pca = PCA(n_components=7)\n",
    "x_pca = pca.fit_transform(x_std)\n",
    "print(pca.explained_variance_ratio_)"
   ]
  },
  {
   "cell_type": "code",
   "execution_count": 57,
   "id": "631fcd4a",
   "metadata": {},
   "outputs": [
    {
     "data": {
      "text/plain": [
       "0.8200000000000001"
      ]
     },
     "execution_count": 57,
     "metadata": {},
     "output_type": "execute_result"
    }
   ],
   "source": [
    ".24+.16+.13+.09+.08+.06+0.06\n"
   ]
  },
  {
   "cell_type": "markdown",
   "id": "215bf1c0",
   "metadata": {},
   "source": [
    "###### ~ 82% of  the variance is explained when we use 6 components. "
   ]
  },
  {
   "cell_type": "code",
   "execution_count": 58,
   "id": "e685cfdb",
   "metadata": {},
   "outputs": [
    {
     "data": {
      "text/html": [
       "<div>\n",
       "<style scoped>\n",
       "    .dataframe tbody tr th:only-of-type {\n",
       "        vertical-align: middle;\n",
       "    }\n",
       "\n",
       "    .dataframe tbody tr th {\n",
       "        vertical-align: top;\n",
       "    }\n",
       "\n",
       "    .dataframe thead th {\n",
       "        text-align: right;\n",
       "    }\n",
       "</style>\n",
       "<table border=\"1\" class=\"dataframe\">\n",
       "  <thead>\n",
       "    <tr style=\"text-align: right;\">\n",
       "      <th></th>\n",
       "      <th>principal component 1</th>\n",
       "      <th>principal component 2</th>\n",
       "      <th>principal component 3</th>\n",
       "      <th>principal component 4</th>\n",
       "      <th>principal component 5</th>\n",
       "      <th>principal component 6</th>\n",
       "      <th>principal component 7</th>\n",
       "    </tr>\n",
       "  </thead>\n",
       "  <tbody>\n",
       "    <tr>\n",
       "      <th>0</th>\n",
       "      <td>-1.551315</td>\n",
       "      <td>1.482198</td>\n",
       "      <td>-3.406633</td>\n",
       "      <td>-1.820060</td>\n",
       "      <td>0.593149</td>\n",
       "      <td>1.260683</td>\n",
       "      <td>1.657259</td>\n",
       "    </tr>\n",
       "    <tr>\n",
       "      <th>1</th>\n",
       "      <td>-3.459533</td>\n",
       "      <td>0.674615</td>\n",
       "      <td>-1.505141</td>\n",
       "      <td>-0.860728</td>\n",
       "      <td>0.052781</td>\n",
       "      <td>1.631882</td>\n",
       "      <td>-0.087720</td>\n",
       "    </tr>\n",
       "    <tr>\n",
       "      <th>2</th>\n",
       "      <td>-1.535340</td>\n",
       "      <td>0.708857</td>\n",
       "      <td>-2.520431</td>\n",
       "      <td>-1.398281</td>\n",
       "      <td>0.440881</td>\n",
       "      <td>0.860730</td>\n",
       "      <td>1.610923</td>\n",
       "    </tr>\n",
       "    <tr>\n",
       "      <th>3</th>\n",
       "      <td>-3.137261</td>\n",
       "      <td>1.563158</td>\n",
       "      <td>-0.759540</td>\n",
       "      <td>-0.355829</td>\n",
       "      <td>1.119298</td>\n",
       "      <td>1.266442</td>\n",
       "      <td>-0.552584</td>\n",
       "    </tr>\n",
       "    <tr>\n",
       "      <th>4</th>\n",
       "      <td>-3.339128</td>\n",
       "      <td>0.425835</td>\n",
       "      <td>-0.916766</td>\n",
       "      <td>-0.671153</td>\n",
       "      <td>-0.018361</td>\n",
       "      <td>1.404652</td>\n",
       "      <td>-0.238495</td>\n",
       "    </tr>\n",
       "  </tbody>\n",
       "</table>\n",
       "</div>"
      ],
      "text/plain": [
       "   principal component 1  principal component 2  principal component 3  \\\n",
       "0              -1.551315               1.482198              -3.406633   \n",
       "1              -3.459533               0.674615              -1.505141   \n",
       "2              -1.535340               0.708857              -2.520431   \n",
       "3              -3.137261               1.563158              -0.759540   \n",
       "4              -3.339128               0.425835              -0.916766   \n",
       "\n",
       "   principal component 4  principal component 5  principal component 6  \\\n",
       "0              -1.820060               0.593149               1.260683   \n",
       "1              -0.860728               0.052781               1.631882   \n",
       "2              -1.398281               0.440881               0.860730   \n",
       "3              -0.355829               1.119298               1.266442   \n",
       "4              -0.671153              -0.018361               1.404652   \n",
       "\n",
       "   principal component 7  \n",
       "0               1.657259  \n",
       "1              -0.087720  \n",
       "2               1.610923  \n",
       "3              -0.552584  \n",
       "4              -0.238495  "
      ]
     },
     "execution_count": 58,
     "metadata": {},
     "output_type": "execute_result"
    }
   ],
   "source": [
    "principalComponents = pca.fit_transform(x_std) \n",
    "principalDf = pd.DataFrame(data = principalComponents , columns = ['principal component 1', 'principal component 2'\n",
    "                          , 'principal component 3', 'principal component 4', 'principal component 5'\n",
    "                           , 'principal component 6','principal component 7'])\n",
    "principalDf.head(5) # prints the top 5 rows"
   ]
  },
  {
   "cell_type": "code",
   "execution_count": 59,
   "id": "75c58a50",
   "metadata": {},
   "outputs": [
    {
     "data": {
      "text/html": [
       "<div>\n",
       "<style scoped>\n",
       "    .dataframe tbody tr th:only-of-type {\n",
       "        vertical-align: middle;\n",
       "    }\n",
       "\n",
       "    .dataframe tbody tr th {\n",
       "        vertical-align: top;\n",
       "    }\n",
       "\n",
       "    .dataframe thead th {\n",
       "        text-align: right;\n",
       "    }\n",
       "</style>\n",
       "<table border=\"1\" class=\"dataframe\">\n",
       "  <thead>\n",
       "    <tr style=\"text-align: right;\">\n",
       "      <th></th>\n",
       "      <th>principal component 1</th>\n",
       "      <th>principal component 2</th>\n",
       "      <th>principal component 3</th>\n",
       "      <th>principal component 4</th>\n",
       "      <th>principal component 5</th>\n",
       "      <th>principal component 6</th>\n",
       "      <th>principal component 7</th>\n",
       "      <th>churn</th>\n",
       "    </tr>\n",
       "  </thead>\n",
       "  <tbody>\n",
       "    <tr>\n",
       "      <th>0</th>\n",
       "      <td>-1.551315</td>\n",
       "      <td>1.482198</td>\n",
       "      <td>-3.406633</td>\n",
       "      <td>-1.820060</td>\n",
       "      <td>0.593149</td>\n",
       "      <td>1.260683</td>\n",
       "      <td>1.657259</td>\n",
       "      <td>0</td>\n",
       "    </tr>\n",
       "    <tr>\n",
       "      <th>1</th>\n",
       "      <td>-3.459533</td>\n",
       "      <td>0.674615</td>\n",
       "      <td>-1.505141</td>\n",
       "      <td>-0.860728</td>\n",
       "      <td>0.052781</td>\n",
       "      <td>1.631882</td>\n",
       "      <td>-0.087720</td>\n",
       "      <td>1</td>\n",
       "    </tr>\n",
       "    <tr>\n",
       "      <th>2</th>\n",
       "      <td>-1.535340</td>\n",
       "      <td>0.708857</td>\n",
       "      <td>-2.520431</td>\n",
       "      <td>-1.398281</td>\n",
       "      <td>0.440881</td>\n",
       "      <td>0.860730</td>\n",
       "      <td>1.610923</td>\n",
       "      <td>1</td>\n",
       "    </tr>\n",
       "    <tr>\n",
       "      <th>3</th>\n",
       "      <td>-3.137261</td>\n",
       "      <td>1.563158</td>\n",
       "      <td>-0.759540</td>\n",
       "      <td>-0.355829</td>\n",
       "      <td>1.119298</td>\n",
       "      <td>1.266442</td>\n",
       "      <td>-0.552584</td>\n",
       "      <td>1</td>\n",
       "    </tr>\n",
       "    <tr>\n",
       "      <th>4</th>\n",
       "      <td>-3.339128</td>\n",
       "      <td>0.425835</td>\n",
       "      <td>-0.916766</td>\n",
       "      <td>-0.671153</td>\n",
       "      <td>-0.018361</td>\n",
       "      <td>1.404652</td>\n",
       "      <td>-0.238495</td>\n",
       "      <td>1</td>\n",
       "    </tr>\n",
       "  </tbody>\n",
       "</table>\n",
       "</div>"
      ],
      "text/plain": [
       "   principal component 1  principal component 2  principal component 3  \\\n",
       "0              -1.551315               1.482198              -3.406633   \n",
       "1              -3.459533               0.674615              -1.505141   \n",
       "2              -1.535340               0.708857              -2.520431   \n",
       "3              -3.137261               1.563158              -0.759540   \n",
       "4              -3.339128               0.425835              -0.916766   \n",
       "\n",
       "   principal component 4  principal component 5  principal component 6  \\\n",
       "0              -1.820060               0.593149               1.260683   \n",
       "1              -0.860728               0.052781               1.631882   \n",
       "2              -1.398281               0.440881               0.860730   \n",
       "3              -0.355829               1.119298               1.266442   \n",
       "4              -0.671153              -0.018361               1.404652   \n",
       "\n",
       "   principal component 7  churn  \n",
       "0               1.657259      0  \n",
       "1              -0.087720      1  \n",
       "2               1.610923      1  \n",
       "3              -0.552584      1  \n",
       "4              -0.238495      1  "
      ]
     },
     "execution_count": 59,
     "metadata": {},
     "output_type": "execute_result"
    }
   ],
   "source": [
    "finalDf = pd.concat([principalDf,pd.DataFrame(y,columns = ['churn'])], axis = 1) \n",
    "finalDf.head()"
   ]
  },
  {
   "cell_type": "code",
   "execution_count": 60,
   "id": "2243601d",
   "metadata": {},
   "outputs": [
    {
     "data": {
      "text/plain": [
       "(71893, 7)"
      ]
     },
     "execution_count": 60,
     "metadata": {},
     "output_type": "execute_result"
    }
   ],
   "source": [
    "x_pca.shape"
   ]
  },
  {
   "cell_type": "code",
   "execution_count": 61,
   "id": "5cde42f6",
   "metadata": {},
   "outputs": [
    {
     "data": {
      "image/png": "[encoded data removed]",
      "text/plain": [
       "<Figure size 576x360 with 1 Axes>"
      ]
     },
     "metadata": {
      "needs_background": "light"
     },
     "output_type": "display_data"
    }
   ],
   "source": [
    "fig = plt.figure(figsize = (8,5)) \n",
    "ax = fig.add_subplot(1,1,1) \n",
    "ax.set_xlabel('Principal Component 1', fontsize = 15) \n",
    "ax.set_ylabel('Principal Component 2', fontsize = 15) \n",
    "ax.set_title('2 Component PCA', fontsize = 20) \n",
    "targets = [0,1] \n",
    "colors = ['r', 'g', 'b'] \n",
    "for target, color in zip(targets,colors): \n",
    "    indicesToKeep = finalDf['churn'] == target  \n",
    "    ax.scatter(finalDf.loc[indicesToKeep, 'principal component 1'] , finalDf.loc[indicesToKeep, 'principal component 2'] \n",
    "               , c = color , s = 50) \n",
    "ax.legend(targets) \n",
    "ax.grid()"
   ]
  },
  {
   "cell_type": "code",
   "execution_count": 62,
   "id": "5fa00736",
   "metadata": {},
   "outputs": [
    {
     "data": {
      "text/plain": [
       "<matplotlib.colorbar.Colorbar at 0x1e95cb14130>"
      ]
     },
     "execution_count": 62,
     "metadata": {},
     "output_type": "execute_result"
    },
    {
     "data": {
      "image/png": "[encoded data removed]",
      "text/plain": [
       "<Figure size 576x432 with 2 Axes>"
      ]
     },
     "metadata": {
      "needs_background": "light"
     },
     "output_type": "display_data"
    }
   ],
   "source": [
    "plt.figure(figsize=(8,6))\n",
    "\n",
    "plt.scatter(x_pca[:,0],x_pca[:,6],c = isc['churn'], alpha=0.8, \n",
    "            cmap=plt.cm.get_cmap('Spectral',10))\n",
    "plt.xlabel('First Principal component')\n",
    "plt.ylabel('Second Principal component')\n",
    "plt.colorbar()"
   ]
  },
  {
   "cell_type": "code",
   "execution_count": 63,
   "id": "1c1c2ea7",
   "metadata": {},
   "outputs": [
    {
     "data": {
      "image/png": "[encoded data removed]",
      "text/plain": [
       "<Figure size 720x432 with 1 Axes>"
      ]
     },
     "metadata": {
      "needs_background": "light"
     },
     "output_type": "display_data"
    }
   ],
   "source": [
    "fig = plt.figure(figsize = (10,6)) \n",
    "ax = fig.add_subplot(1,1,1,projection='3d') \n",
    "ax.set_xlabel('Principal Component 1', fontsize = 10) \n",
    "ax.set_ylabel('Principal Component 2', fontsize = 10) \n",
    "ax.set_title('2 Component PCA', fontsize = 20) \n",
    "targets = [0,1] \n",
    "colors = ['r', 'g', 'b'] \n",
    "ax.scatter(x_pca[:,0],x_pca[:,6],c = isc['churn'], alpha=0.8, \n",
    "            cmap=plt.cm.get_cmap('Spectral',10), s=50)\n",
    "plt.xlabel('First Principal component')\n",
    "plt.ylabel('Second Principal component')\n",
    "plt.show()"
   ]
  },
  {
   "cell_type": "markdown",
   "id": "9790d3b1",
   "metadata": {},
   "source": [
    "###### Together, the first 6 principal components contain 82.15% of the information. The rest 4 principal component contained the rest of the variance of the data set."
   ]
  },
  {
   "cell_type": "markdown",
   "id": "c7eadc62",
   "metadata": {},
   "source": [
    "## Recommendations:\n",
    "• Given the insights gained, the company can take some steps to help\n",
    "reduce churn rate:\n",
    "1. Conduct interviews and surveys to identify promotions preferred by customers to avoid churn.\n",
    "2. Offer promotions to customers who do not have contracts (they are most likely to churn).\n",
    "3. Promote tv & movie subscription (they are less likely to churn).\n",
    "4. Reduce service failures to avoid customers from churning.\n",
    "5. Provide discounts to high subscription age customers."
   ]
  },
  {
   "cell_type": "markdown",
   "id": "c11a3bb9",
   "metadata": {},
   "source": [
    "# "
   ]
  }
 ],
 "metadata": {
  "kernelspec": {
   "display_name": "Python 3 (ipykernel)",
   "language": "python",
   "name": "python3"
  },
  "language_info": {
   "codemirror_mode": {
    "name": "ipython",
    "version": 3
   },
   "file_extension": ".py",
   "mimetype": "text/x-python",
   "name": "python",
   "nbconvert_exporter": "python",
   "pygments_lexer": "ipython3",
   "version": "3.9.7"
  }
 },
 "nbformat": 4,
 "nbformat_minor": 5
}
